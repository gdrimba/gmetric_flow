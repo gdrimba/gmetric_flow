{
 "cells": [
  {
   "cell_type": "markdown",
   "metadata": {},
   "source": [
    "# Option hedging with a Long-Short-Term-Memory Recurrent Neural Network \n",
    "\n",
    "In this notebook we are building a Long-Short-Term Memory (LSTM) RNN in TensorFlow to learn a optimal hedging strategy for a Call Options from the market prices of the underlying asset. This approach is data-driven and 'model free' as it doesnt make any assumptions of the underlying stochastic process. The model can easily extended to incoperate transaction costs and trading limits. \n",
    "\n",
    "I follow the idea presented in the paper 'Deep Hedging' (https://arxiv.org/abs/1802.03042) by Hans Bühler, Lukas Gonon, Josef Teichmann, Ben Wood and the work of Hutchinson et. al. 'A Nonparametric approach to pricing and hedging derivative securities via learning network' (http://alo.mit.edu/wp-content/uploads/2015/06/A-Nonparametric-Approach-to-Pricing-and-Hedging-Derivative-Securities-via-Learning-Networks.pdf).\n",
    "\n",
    "We will train a RNN network to learn a optimal hedging strategy given the individual risk aversion of the trader (we will minimize the conditional Value at Risk or Expected Shortfall of the hedging strategy) and derive the option price from this hedging strategy. \n",
    "\n",
    "In this part we implement a basic 3 layer LSTM network in TensorFlow and we train the model on a Black Scholes process with a drift of zero (risk free interest is zero) and a volatility of 20%. The training option matures in one month and has a moneyness of one ($S/K=1)$.\n",
    "\n",
    "For simplicty we use synthetic market prices of the underlying gernerated by a Black Scholes Process. This can easily adopted to more spohisticated models (see the reference paper for a Heston Model example) or even use real market data.\n",
    "\n",
    "We will compare the effectivness of the hedging strategy and compare it to the delta hedging strategy using the Black Scholes Delta. We will see the influence of the risk aversion of the trader and we will see how well the network can generalize the hedging strategy if we change the moneyness of the option, the drift (should have no effect in theory) and the volatility of the underlying process.\n",
    "\n",
    "In the comming parts we will try improve the network by changing the network architecture (e.g. simple MLP or Convolutional Networks) or using other and more features and try some approach to generate training data from market data or try transfer learning methods (since we dont have millions of training paths of one underlying) and include transaction costs."
   ]
  },
  {
   "cell_type": "code",
   "execution_count": 1,
   "metadata": {},
   "outputs": [],
   "source": [
    "import datetime as dt\n",
    "import numpy as np\n",
    "import pandas as pd\n",
    "import scipy.stats as stats\n",
    "import tensorflow as tf\n",
    "import matplotlib.pyplot as plt\n",
    "import seaborn as sns"
   ]
  },
  {
   "cell_type": "markdown",
   "metadata": {},
   "source": [
    "### Black Scholes price and delta"
   ]
  },
  {
   "cell_type": "markdown",
   "metadata": {},
   "source": [
    "First some helper function to calculate the analytical Black Scholes price and delta for a Call option."
   ]
  },
  {
   "cell_type": "code",
   "execution_count": 3,
   "metadata": {},
   "outputs": [],
   "source": [
    "def BS_d1(S, dt, r, sigma, K):\n",
    "    return (np.log(S/K) + (r+sigma**2/2)*dt) / (sigma*np.sqrt(dt))\n",
    "\n",
    "def BlackScholes_price(S, T, r, sigma, K, t=0):\n",
    "    dt = T-t\n",
    "    Phi = stats.norm(loc=0, scale=1).cdf\n",
    "    d1 = BS_d1(S, dt, r, sigma, K)\n",
    "    d2 = d1 - sigma*np.sqrt(dt)\n",
    "    return S*Phi(d1) - K*np.exp(-r*dt)*Phi(d2)\n",
    "\n",
    "def BS_delta(S, T, r, sigma, K, t=0):\n",
    "    dt = T-t\n",
    "    d1 = BS_d1(S, dt, r, sigma, K)\n",
    "    Phi = stats.norm(loc=0, scale=1).cdf\n",
    "    return Phi(d1)"
   ]
  },
  {
   "cell_type": "markdown",
   "metadata": {},
   "source": [
    "### Simulation of the underlying price\n",
    "\n",
    "Helper function to generate training and test sets"
   ]
  },
  {
   "cell_type": "code",
   "execution_count": 4,
   "metadata": {},
   "outputs": [],
   "source": [
    "def monte_carlo_paths(S_0, time_to_expiry, sigma, drift, seed, n_sims, n_timesteps):\n",
    "    \"\"\"\n",
    "    Create random paths of a underlying following a browian geometric motion\n",
    "    \n",
    "    input:\n",
    "    \n",
    "    S_0 = Spot at t_0\n",
    "    time_to_experiy = end of the timeseries (last observed time)\n",
    "    sigma = the volatiltiy (sigma in the geometric brownian motion)\n",
    "    drift = drift of the process\n",
    "    n_sims = number of paths to generate\n",
    "    n_timesteps = numbers of aquidistant time steps \n",
    "    \n",
    "    return:\n",
    "    \n",
    "    a (n_timesteps x n_sims x 1) matrix\n",
    "    \"\"\"\n",
    "    if seed > 0:\n",
    "            np.random.seed(seed)\n",
    "    stdnorm_random_variates = np.random.randn(n_sims, n_timesteps)\n",
    "    S = S_0\n",
    "    dt = time_to_expiry / stdnorm_random_variates.shape[1]\n",
    "    r = drift\n",
    "    # See Advanced Monte Carlo methods for barrier and related exotic options by Emmanuel Gobet\n",
    "    S_T = S * np.cumprod(np.exp((r-sigma**2/2)*dt+sigma*np.sqrt(dt)*stdnorm_random_variates), axis=1)\n",
    "    return np.reshape(np.transpose(np.c_[np.ones(n_sims)*S_0, S_T]), (n_timesteps+1, n_sims, 1))"
   ]
  },
  {
   "cell_type": "code",
   "execution_count": 5,
   "metadata": {},
   "outputs": [],
   "source": [
    "S_0 = 100\n",
    "K = 100\n",
    "r = 0\n",
    "vol = 0.2\n",
    "T = 1/12\n",
    "timesteps = 30"
   ]
  },
  {
   "cell_type": "markdown",
   "metadata": {},
   "source": [
    "We will test our network with three test sets:\n",
    "    \n",
    "- First: We test the network with an out of sample test set from the same stochastic process `paths_test_1`\n",
    "\n",
    "- Second: We assume we trained our model to hedge a stock with same volatility but different drift.\n",
    "\n",
    "- Third: We test the hedge portfolio given on a sample generate with from a geometric brownian motion with shifed volatility"
   ]
  },
  {
   "cell_type": "code",
   "execution_count": 6,
   "metadata": {},
   "outputs": [],
   "source": [
    "# Train the model on the path of the risk neutral measure\n",
    "paths_train = monte_carlo_paths(S_0, T, vol, r, 42, 500000, timesteps)"
   ]
  },
  {
   "cell_type": "markdown",
   "metadata": {},
   "source": [
    "## Testing a hedging strategy\n",
    "\n",
    "If we could rebalance our replication portfolio in continous time, the PnL of the replication portfolio using the Black Scholes Delta would be zero.\n",
    "\n",
    "But since we can trade only at discrite times there will be an error. The more often we balance our replication portfolio the smaller the hedge error will be. \n",
    "\n",
    "We will use the function `test_hedging_strategy()` to calculates the PnL and the CVaR of a hedging strategy given  the amount of underlying to hold at each time on each path `deltas`, the realized path of the underlying `paths`, the strike `K`, the level of the CVaR `alpha`."
   ]
  },
  {
   "cell_type": "code",
   "execution_count": 7,
   "metadata": {},
   "outputs": [],
   "source": [
    "def test_hedging_strategy(deltas, paths, K, price, alpha, output=True):\n",
    "    S_returns = paths[1:,:,0]-paths[:-1,:,0]\n",
    "    hedge_pnl = np.sum(deltas * S_returns, axis=0)\n",
    "    option_payoff = np.maximum(paths[-1,:,0] - K, 0)\n",
    "    replication_portfolio_pnls = -option_payoff + hedge_pnl + price\n",
    "    mean_pnl = np.mean(replication_portfolio_pnls)\n",
    "    cvar_pnl = -np.mean(np.sort(replication_portfolio_pnls)[:int((1-alpha)*replication_portfolio_pnls.shape[0])])\n",
    "    if output:\n",
    "        plt.hist(replication_portfolio_pnls)\n",
    "        print('BS price at t0:', price)\n",
    "        print('Mean Hedging PnL:', mean_pnl)\n",
    "        print('CVaR Hedging PnL:', cvar_pnl)\n",
    "    return (mean_pnl, cvar_pnl, hedge_pnl, replication_portfolio_pnls, deltas)\n",
    "\n",
    "def plot_deltas(paths, deltas_bs, deltas_rnn, times=[0, 1, 5, 10, 15, 29]):\n",
    "    fig = plt.figure(figsize=(10,6))\n",
    "    for i, t in enumerate(times):\n",
    "        plt.subplot(2,3,i+1)\n",
    "        xs =  paths[t,:,0]\n",
    "        ys_bs = deltas_bs[t,:]\n",
    "        ys_rnn = deltas_rnn[t,:]\n",
    "        df = pd.DataFrame([xs, ys_bs, ys_rnn]).T\n",
    "        #df = df.groupby(0, as_index=False).agg({1:np.mean,\n",
    "        #                                          2: np.mean})\n",
    "        plt.plot(df[0], df[1], df[0], df[2], linestyle='', marker='x' )\n",
    "        plt.legend(['BS delta', 'RNN Delta'])\n",
    "        plt.title('Delta at Time %i' % t)\n",
    "        plt.xlabel('Spot')\n",
    "        plt.ylabel('$\\Delta$')\n",
    "    plt.tight_layout()\n",
    "    \n",
    "def plot_strategy_pnl(portfolio_pnl_bs, portfolio_pnl_rnn):\n",
    "    fig = plt.figure(figsize=(10,6))\n",
    "    sns.boxplot(x=['Black-Scholes', 'RNN-LSTM-v1 '], y=[portfolio_pnl_bs, portfolio_pnl_rnn])\n",
    "    plt.title('Compare PnL Replication Strategy')\n",
    "    plt.ylabel('PnL')"
   ]
  },
  {
   "cell_type": "markdown",
   "metadata": {},
   "source": [
    "The function `black_scholes_hedge_strategy` calculates the Black Scholes delta hedge strategy on simulated paths of the underlying and test it."
   ]
  },
  {
   "cell_type": "code",
   "execution_count": 8,
   "metadata": {},
   "outputs": [],
   "source": [
    "def black_scholes_hedge_strategy(S_0, K, r, vol, T, paths, alpha, output):\n",
    "    bs_price = BlackScholes_price(S_0, T, r, vol, K, 0)\n",
    "    times = np.zeros(paths.shape[0])\n",
    "    times[1:] = T / (paths.shape[0]-1)\n",
    "    times = np.cumsum(times)    \n",
    "    bs_deltas = np.zeros((paths.shape[0]-1, paths.shape[1]))\n",
    "    for i in range(paths.shape[0]-1):\n",
    "        t = times[i]\n",
    "        bs_deltas[i,:] = BS_delta(paths[i,:,0], T, r, vol, K, t)\n",
    "    return test_hedging_strategy(bs_deltas, paths, K, bs_price, alpha, output)"
   ]
  },
  {
   "cell_type": "code",
   "execution_count": 9,
   "metadata": {},
   "outputs": [],
   "source": [
    "no_rehedges_mean_error = {}\n",
    "replication_portfolios  = {}\n",
    "for timestep in np.arange(1,61):\n",
    "    t_paths = monte_carlo_paths(S_0, T, vol, r, 2101, 10000, timestep)\n",
    "    no_rehedges_mean_error[timestep], _, _, replication_portfolios[timestep],_ = black_scholes_hedge_strategy(S_0, K, r, vol, T, t_paths, 0.99, False)\n",
    "    "
   ]
  },
  {
   "cell_type": "code",
   "execution_count": 10,
   "metadata": {},
   "outputs": [
    {
     "data": {
      "image/png": "[encoded data removed]",
      "text/plain": [
       "<Figure size 432x288 with 1 Axes>"
      ]
     },
     "metadata": {
      "needs_background": "light"
     },
     "output_type": "display_data"
    }
   ],
   "source": [
    "pd.DataFrame(list(no_rehedges_mean_error.items())).plot(0, 1, style='--x')\n",
    "plt.xlabel('Number of rebalancing transactions the Portfolio during lifetime')\n",
    "plt.ylabel('Mean Hedging error')\n",
    "plt.title('Hedging Error due to discrete trading times')\n",
    "plt.savefig('hedging_error_bs1.png')"
   ]
  },
  {
   "cell_type": "code",
   "execution_count": 11,
   "metadata": {},
   "outputs": [
    {
     "data": {
      "image/png": "[encoded data removed]",
      "text/plain": [
       "<Figure size 720x432 with 4 Axes>"
      ]
     },
     "metadata": {
      "needs_background": "light"
     },
     "output_type": "display_data"
    }
   ],
   "source": [
    "plt.figure(figsize=(10,6))\n",
    "plt.subplot(2,2,1)\n",
    "_ = plt.hist(replication_portfolios[4])\n",
    "_ = plt.title('Hedge PnL with weekly reblancing')\n",
    "_ = plt.xlabel('PnL')\n",
    "plt.subplot(2,2,2)\n",
    "_ = plt.hist(replication_portfolios[15])\n",
    "_ = plt.title('Hedge PnL with every two day reblancing')\n",
    "_ = plt.xlabel('PnL')\n",
    "plt.subplot(2,2,3)\n",
    "_ = plt.hist(replication_portfolios[30])\n",
    "_ = plt.title('Hedge PnL with daily reblancing')\n",
    "_ = plt.xlabel('PnL')\n",
    "plt.subplot(2,2,4)\n",
    "_ = plt.hist(replication_portfolios[60])\n",
    "_ = plt.title('Hedge PnL with twice a day reblancing')\n",
    "_ = plt.xlabel('PnL')\n",
    "plt.tight_layout()\n",
    "plt.savefig('hedging_error2.png')"
   ]
  },
  {
   "cell_type": "markdown",
   "metadata": {},
   "source": [
    "### RNN-LSTM Network\n",
    "\n",
    "We wrap out network in the class RnnModel. In the constructor we build the computational graph in TensorFlow using the `LSTMCell` and stack them with the `tf.MultiRNNCell`. Our loss is the $\\alpha$-CVaR. We sort the negative realized PnLs of the trading strategy and calculate the mean of the $1-\\alpha$ top losses.\n",
    "\n",
    "The class provide a function to train the model in batches (applying a stochastic gradient descent optimizer) and a method to make prediction. \n",
    "\n",
    "We train the model for 100 epochs and save a model checkpoint every 10 epochs on the hard disk."
   ]
  },
  {
   "cell_type": "code",
   "execution_count": 13,
   "metadata": {},
   "outputs": [],
   "source": [
    "class RnnModel(object):\n",
    "    def __init__(self, time_steps, batch_size, features, nodes = [62,46,46,1], name='model'):\n",
    "        tf.reset_default_graph()\n",
    "        self.batch_size = batch_size\n",
    "        self.S_t_input = tf.placeholder(tf.float32, [time_steps, batch_size, features])\n",
    "        self.K = tf.placeholder(tf.float32, batch_size)\n",
    "        self.alpha = tf.placeholder(tf.float32)\n",
    "\n",
    "        S_T = self.S_t_input[-1,:,0]\n",
    "        dS = self.S_t_input[1:, :, 0] - self.S_t_input[0:-1, :, 0]\n",
    "        #dS = tf.reshape(dS, (time_steps, batch_size))\n",
    "\n",
    "        #Prepare S_t for the use in the RNN remove the last time step (at T the portfolio is zero)\n",
    "        S_t = tf.unstack(self.S_t_input[:-1, :,:], axis=0)\n",
    "\n",
    "        # Build the lstm\n",
    "        lstm = tf.contrib.rnn.MultiRNNCell([tf.contrib.rnn.LSTMCell(n) for n in nodes])\n",
    "\n",
    "\n",
    "        self.strategy, state = tf.nn.static_rnn(lstm, S_t, initial_state=lstm.zero_state(batch_size, tf.float32), dtype=tf.float32)\n",
    "\n",
    "        self.strategy = tf.reshape(self.strategy, (time_steps-1, batch_size))\n",
    "        self.option = tf.maximum(S_T-self.K, 0)\n",
    "\n",
    "        self.Hedging_PnL = - self.option + tf.reduce_sum(dS*self.strategy, axis=0)\n",
    "        self.Hedging_PnL_Paths = - self.option + dS*self.strategy\n",
    "        # Calculate the CVaR for a given confidence level alpha\n",
    "        # Take the 1-alpha largest losses (top 1-alpha negative PnLs) and calculate the mean\n",
    "        CVaR, idx = tf.nn.top_k(-self.Hedging_PnL, tf.cast((1-self.alpha)*batch_size, tf.int32))\n",
    "        CVaR = tf.reduce_mean(CVaR)\n",
    "        self.train = tf.train.AdamOptimizer().minimize(CVaR)\n",
    "        self.saver = tf.train.Saver()\n",
    "        self.modelname = name\n",
    "        \n",
    "    def _execute_graph_batchwise(self, paths, strikes, riskaversion, sess, epochs=1, train_flag=False):\n",
    "        sample_size = paths.shape[1]\n",
    "        batch_size=self.batch_size\n",
    "        idx = np.arange(sample_size)\n",
    "        start = dt.datetime.now()\n",
    "        for epoch in range(epochs):\n",
    "            # Save the hedging Pnl for each batch      \n",
    "            pnls = []\n",
    "            strategies = []\n",
    "            if train_flag:\n",
    "                np.random.shuffle(idx)\n",
    "            for i in range(int(sample_size/batch_size)):\n",
    "                indices = idx[i*batch_size : (i+1)*batch_size]\n",
    "                batch = paths[:,indices,:]\n",
    "                if train_flag:\n",
    "                    _, pnl, strategy = sess.run([self.train, self.Hedging_PnL, self.strategy], {self.S_t_input: batch,\n",
    "                                                                                          self.K : strikes[indices],\n",
    "                                                                                          self.alpha: riskaversion})\n",
    "                else:\n",
    "                    pnl, strategy = sess.run([self.Hedging_PnL, self.strategy], {self.S_t_input: batch,\n",
    "                                                                                self.K : strikes[indices],\n",
    "                                                                                self.alpha: riskaversion})\n",
    "                pnls.append(pnl)\n",
    "                strategies.append(strategy)\n",
    "            #Calculate the option prive given the risk aversion level alpha\n",
    "            CVaR = np.mean(-np.sort(np.concatenate(pnls))[:int((1-riskaversion)*sample_size)])\n",
    "            if train_flag:\n",
    "                if epoch % 10 == 0:\n",
    "                    print('Time elapsed:', dt.datetime.now()-start)\n",
    "                    print('Epoch', epoch, 'CVaR', CVaR)\n",
    "                    self.saver.save(sess, r\"/Users/georgedrimba/Desktop/Trading/%s/model.ckpt\" % self.modelname)\n",
    "        self.saver.save(sess, r\"/Users/georgedrimba/Desktop/Trading/%s/model.ckpt\" % self.modelname)\n",
    "        return CVaR, np.concatenate(pnls), np.concatenate(strategies,axis=1)\n",
    "    \n",
    "    def training(self, paths, strikes, riskaversion, epochs, session, init=True):\n",
    "        if init:\n",
    "            sess.run(tf.global_variables_initializer())\n",
    "        self._execute_graph_batchwise(paths, strikes, riskaversion, session, epochs, train_flag=True)\n",
    "        \n",
    "    def predict(self, paths, strikes, riskaversion, session):\n",
    "        return self._execute_graph_batchwise(paths, strikes, riskaversion,session, 1, train_flag=False)\n",
    "\n",
    "    def restore(self, session, checkpoint):\n",
    "        self.saver.restore(session, checkpoint)"
   ]
  },
  {
   "cell_type": "code",
   "execution_count": 14,
   "metadata": {},
   "outputs": [
    {
     "name": "stderr",
     "output_type": "stream",
     "text": [
      "WARNING: Logging before flag parsing goes to stderr.\n",
      "W0729 10:55:37.855111 14672 lazy_loader.py:50] \n",
      "The TensorFlow contrib module will not be included in TensorFlow 2.0.\n",
      "For more information, please see:\n",
      "  * https://github.com/tensorflow/community/blob/master/rfcs/20180907-contrib-sunset.md\n",
      "  * https://github.com/tensorflow/addons\n",
      "  * https://github.com/tensorflow/io (for I/O related ops)\n",
      "If you depend on functionality not listed there, please file an issue.\n",
      "\n",
      "W0729 10:55:37.859662 14672 deprecation.py:323] From <ipython-input-13-a53fa8ccb189>:17: LSTMCell.__init__ (from tensorflow.python.ops.rnn_cell_impl) is deprecated and will be removed in a future version.\n",
      "Instructions for updating:\n",
      "This class is equivalent as tf.keras.layers.LSTMCell, and will be replaced by that in Tensorflow 2.0.\n",
      "W0729 10:55:37.859662 14672 deprecation.py:323] From <ipython-input-13-a53fa8ccb189>:17: MultiRNNCell.__init__ (from tensorflow.python.ops.rnn_cell_impl) is deprecated and will be removed in a future version.\n",
      "Instructions for updating:\n",
      "This class is equivalent as tf.keras.layers.StackedRNNCells, and will be replaced by that in Tensorflow 2.0.\n",
      "W0729 10:55:37.922500 14672 deprecation.py:323] From <ipython-input-13-a53fa8ccb189>:20: static_rnn (from tensorflow.python.ops.rnn) is deprecated and will be removed in a future version.\n",
      "Instructions for updating:\n",
      "Please use `keras.layers.RNN(cell, unroll=True)`, which is equivalent to this API\n",
      "W0729 10:55:38.175052 14672 deprecation.py:506] From C:\\Users\\DRIMBG\\AppData\\Roaming\\Python\\Python36\\site-packages\\tensorflow\\python\\ops\\init_ops.py:1251: calling VarianceScaling.__init__ (from tensorflow.python.ops.init_ops) with dtype is deprecated and will be removed in a future version.\n",
      "Instructions for updating:\n",
      "Call initializer instance with the dtype argument instead of passing it to the constructor\n",
      "W0729 10:55:38.202054 14672 deprecation.py:506] From C:\\Users\\DRIMBG\\AppData\\Roaming\\Python\\Python36\\site-packages\\tensorflow\\python\\ops\\rnn_cell_impl.py:961: calling Zeros.__init__ (from tensorflow.python.ops.init_ops) with dtype is deprecated and will be removed in a future version.\n",
      "Instructions for updating:\n",
      "Call initializer instance with the dtype argument instead of passing it to the constructor\n"
     ]
    }
   ],
   "source": [
    "batch_size = 1000\n",
    "features = 1\n",
    "alpha = 0.50\n",
    "model_1 = RnnModel(paths_train.shape[0], batch_size, features, name='rnn_050')"
   ]
  },
  {
   "cell_type": "code",
   "execution_count": 15,
   "metadata": {},
   "outputs": [
    {
     "name": "stdout",
     "output_type": "stream",
     "text": [
      "Time elapsed: 0:01:46.372203\n",
      "Epoch 0 CVaR 3.1207864\n"
     ]
    },
    {
     "ename": "ValueError",
     "evalue": "Parent directory of /Users/georgedrimba/Desktop/Trading/rnn_050/model.ckpt doesn't exist, can't save.",
     "output_type": "error",
     "traceback": [
      "\u001b[1;31m---------------------------------------------------------------------------\u001b[0m",
      "\u001b[1;31mNotFoundError\u001b[0m                             Traceback (most recent call last)",
      "\u001b[1;32m~\\AppData\\Roaming\\Python\\Python36\\site-packages\\tensorflow\\python\\client\\session.py\u001b[0m in \u001b[0;36m_do_call\u001b[1;34m(self, fn, *args)\u001b[0m\n\u001b[0;32m   1355\u001b[0m     \u001b[1;32mtry\u001b[0m\u001b[1;33m:\u001b[0m\u001b[1;33m\u001b[0m\u001b[0m\n\u001b[1;32m-> 1356\u001b[1;33m       \u001b[1;32mreturn\u001b[0m \u001b[0mfn\u001b[0m\u001b[1;33m(\u001b[0m\u001b[1;33m*\u001b[0m\u001b[0margs\u001b[0m\u001b[1;33m)\u001b[0m\u001b[1;33m\u001b[0m\u001b[0m\n\u001b[0m\u001b[0;32m   1357\u001b[0m     \u001b[1;32mexcept\u001b[0m \u001b[0merrors\u001b[0m\u001b[1;33m.\u001b[0m\u001b[0mOpError\u001b[0m \u001b[1;32mas\u001b[0m \u001b[0me\u001b[0m\u001b[1;33m:\u001b[0m\u001b[1;33m\u001b[0m\u001b[0m\n",
      "\u001b[1;32m~\\AppData\\Roaming\\Python\\Python36\\site-packages\\tensorflow\\python\\client\\session.py\u001b[0m in \u001b[0;36m_run_fn\u001b[1;34m(feed_dict, fetch_list, target_list, options, run_metadata)\u001b[0m\n\u001b[0;32m   1340\u001b[0m       return self._call_tf_sessionrun(\n\u001b[1;32m-> 1341\u001b[1;33m           options, feed_dict, fetch_list, target_list, run_metadata)\n\u001b[0m\u001b[0;32m   1342\u001b[0m \u001b[1;33m\u001b[0m\u001b[0m\n",
      "\u001b[1;32m~\\AppData\\Roaming\\Python\\Python36\\site-packages\\tensorflow\\python\\client\\session.py\u001b[0m in \u001b[0;36m_call_tf_sessionrun\u001b[1;34m(self, options, feed_dict, fetch_list, target_list, run_metadata)\u001b[0m\n\u001b[0;32m   1428\u001b[0m         \u001b[0mself\u001b[0m\u001b[1;33m.\u001b[0m\u001b[0m_session\u001b[0m\u001b[1;33m,\u001b[0m \u001b[0moptions\u001b[0m\u001b[1;33m,\u001b[0m \u001b[0mfeed_dict\u001b[0m\u001b[1;33m,\u001b[0m \u001b[0mfetch_list\u001b[0m\u001b[1;33m,\u001b[0m \u001b[0mtarget_list\u001b[0m\u001b[1;33m,\u001b[0m\u001b[1;33m\u001b[0m\u001b[0m\n\u001b[1;32m-> 1429\u001b[1;33m         run_metadata)\n\u001b[0m\u001b[0;32m   1430\u001b[0m \u001b[1;33m\u001b[0m\u001b[0m\n",
      "\u001b[1;31mNotFoundError\u001b[0m: Failed to create a directory: /Users/georgedrimba/Desktop/Trading/rnn_050; No such file or directory\n\t [[{{node save/SaveV2}}]]",
      "\nDuring handling of the above exception, another exception occurred:\n",
      "\u001b[1;31mNotFoundError\u001b[0m                             Traceback (most recent call last)",
      "\u001b[1;32m~\\AppData\\Roaming\\Python\\Python36\\site-packages\\tensorflow\\python\\training\\saver.py\u001b[0m in \u001b[0;36msave\u001b[1;34m(self, sess, save_path, global_step, latest_filename, meta_graph_suffix, write_meta_graph, write_state, strip_default_attrs, save_debug_info)\u001b[0m\n\u001b[0;32m   1172\u001b[0m               \u001b[0mself\u001b[0m\u001b[1;33m.\u001b[0m\u001b[0msaver_def\u001b[0m\u001b[1;33m.\u001b[0m\u001b[0msave_tensor_name\u001b[0m\u001b[1;33m,\u001b[0m\u001b[1;33m\u001b[0m\u001b[0m\n\u001b[1;32m-> 1173\u001b[1;33m               {self.saver_def.filename_tensor_name: checkpoint_file})\n\u001b[0m\u001b[0;32m   1174\u001b[0m \u001b[1;33m\u001b[0m\u001b[0m\n",
      "\u001b[1;32m~\\AppData\\Roaming\\Python\\Python36\\site-packages\\tensorflow\\python\\client\\session.py\u001b[0m in \u001b[0;36mrun\u001b[1;34m(self, fetches, feed_dict, options, run_metadata)\u001b[0m\n\u001b[0;32m    949\u001b[0m       result = self._run(None, fetches, feed_dict, options_ptr,\n\u001b[1;32m--> 950\u001b[1;33m                          run_metadata_ptr)\n\u001b[0m\u001b[0;32m    951\u001b[0m       \u001b[1;32mif\u001b[0m \u001b[0mrun_metadata\u001b[0m\u001b[1;33m:\u001b[0m\u001b[1;33m\u001b[0m\u001b[0m\n",
      "\u001b[1;32m~\\AppData\\Roaming\\Python\\Python36\\site-packages\\tensorflow\\python\\client\\session.py\u001b[0m in \u001b[0;36m_run\u001b[1;34m(self, handle, fetches, feed_dict, options, run_metadata)\u001b[0m\n\u001b[0;32m   1172\u001b[0m       results = self._do_run(handle, final_targets, final_fetches,\n\u001b[1;32m-> 1173\u001b[1;33m                              feed_dict_tensor, options, run_metadata)\n\u001b[0m\u001b[0;32m   1174\u001b[0m     \u001b[1;32melse\u001b[0m\u001b[1;33m:\u001b[0m\u001b[1;33m\u001b[0m\u001b[0m\n",
      "\u001b[1;32m~\\AppData\\Roaming\\Python\\Python36\\site-packages\\tensorflow\\python\\client\\session.py\u001b[0m in \u001b[0;36m_do_run\u001b[1;34m(self, handle, target_list, fetch_list, feed_dict, options, run_metadata)\u001b[0m\n\u001b[0;32m   1349\u001b[0m       return self._do_call(_run_fn, feeds, fetches, targets, options,\n\u001b[1;32m-> 1350\u001b[1;33m                            run_metadata)\n\u001b[0m\u001b[0;32m   1351\u001b[0m     \u001b[1;32melse\u001b[0m\u001b[1;33m:\u001b[0m\u001b[1;33m\u001b[0m\u001b[0m\n",
      "\u001b[1;32m~\\AppData\\Roaming\\Python\\Python36\\site-packages\\tensorflow\\python\\client\\session.py\u001b[0m in \u001b[0;36m_do_call\u001b[1;34m(self, fn, *args)\u001b[0m\n\u001b[0;32m   1369\u001b[0m       \u001b[0mmessage\u001b[0m \u001b[1;33m=\u001b[0m \u001b[0merror_interpolation\u001b[0m\u001b[1;33m.\u001b[0m\u001b[0minterpolate\u001b[0m\u001b[1;33m(\u001b[0m\u001b[0mmessage\u001b[0m\u001b[1;33m,\u001b[0m \u001b[0mself\u001b[0m\u001b[1;33m.\u001b[0m\u001b[0m_graph\u001b[0m\u001b[1;33m)\u001b[0m\u001b[1;33m\u001b[0m\u001b[0m\n\u001b[1;32m-> 1370\u001b[1;33m       \u001b[1;32mraise\u001b[0m \u001b[0mtype\u001b[0m\u001b[1;33m(\u001b[0m\u001b[0me\u001b[0m\u001b[1;33m)\u001b[0m\u001b[1;33m(\u001b[0m\u001b[0mnode_def\u001b[0m\u001b[1;33m,\u001b[0m \u001b[0mop\u001b[0m\u001b[1;33m,\u001b[0m \u001b[0mmessage\u001b[0m\u001b[1;33m)\u001b[0m\u001b[1;33m\u001b[0m\u001b[0m\n\u001b[0m\u001b[0;32m   1371\u001b[0m \u001b[1;33m\u001b[0m\u001b[0m\n",
      "\u001b[1;31mNotFoundError\u001b[0m: Failed to create a directory: /Users/georgedrimba/Desktop/Trading/rnn_050; No such file or directory\n\t [[node save/SaveV2 (defined at <ipython-input-13-a53fa8ccb189>:32) ]]\n\nErrors may have originated from an input operation.\nInput Source operations connected to node save/SaveV2:\n rnn/multi_rnn_cell/cell_0/lstm_cell/bias/Adam (defined at <ipython-input-13-a53fa8ccb189>:31)\t\n rnn/multi_rnn_cell/cell_0/lstm_cell/kernel (defined at C:\\Users\\DRIMBG\\AppData\\Local\\Temp\\1\\tmpv7mhr9f5.py:53)\n\nOriginal stack trace for 'save/SaveV2':\n  File \"c:\\users\\drimbg\\.conda\\envs\\my_env\\lib\\runpy.py\", line 193, in _run_module_as_main\n    \"__main__\", mod_spec)\n  File \"c:\\users\\drimbg\\.conda\\envs\\my_env\\lib\\runpy.py\", line 85, in _run_code\n    exec(code, run_globals)\n  File \"c:\\users\\drimbg\\.conda\\envs\\my_env\\lib\\site-packages\\ipykernel_launcher.py\", line 16, in <module>\n    app.launch_new_instance()\n  File \"c:\\users\\drimbg\\.conda\\envs\\my_env\\lib\\site-packages\\traitlets\\config\\application.py\", line 658, in launch_instance\n    app.start()\n  File \"c:\\users\\drimbg\\.conda\\envs\\my_env\\lib\\site-packages\\ipykernel\\kernelapp.py\", line 505, in start\n    self.io_loop.start()\n  File \"c:\\users\\drimbg\\.conda\\envs\\my_env\\lib\\site-packages\\tornado\\platform\\asyncio.py\", line 148, in start\n    self.asyncio_loop.run_forever()\n  File \"c:\\users\\drimbg\\.conda\\envs\\my_env\\lib\\asyncio\\base_events.py\", line 421, in run_forever\n    self._run_once()\n  File \"c:\\users\\drimbg\\.conda\\envs\\my_env\\lib\\asyncio\\base_events.py\", line 1426, in _run_once\n    handle._run()\n  File \"c:\\users\\drimbg\\.conda\\envs\\my_env\\lib\\asyncio\\events.py\", line 127, in _run\n    self._callback(*self._args)\n  File \"c:\\users\\drimbg\\.conda\\envs\\my_env\\lib\\site-packages\\tornado\\ioloop.py\", line 690, in <lambda>\n    lambda f: self._run_callback(functools.partial(callback, future))\n  File \"c:\\users\\drimbg\\.conda\\envs\\my_env\\lib\\site-packages\\tornado\\ioloop.py\", line 743, in _run_callback\n    ret = callback()\n  File \"c:\\users\\drimbg\\.conda\\envs\\my_env\\lib\\site-packages\\tornado\\gen.py\", line 787, in inner\n    self.run()\n  File \"c:\\users\\drimbg\\.conda\\envs\\my_env\\lib\\site-packages\\tornado\\gen.py\", line 748, in run\n    yielded = self.gen.send(value)\n  File \"c:\\users\\drimbg\\.conda\\envs\\my_env\\lib\\site-packages\\ipykernel\\kernelbase.py\", line 357, in process_one\n    yield gen.maybe_future(dispatch(*args))\n  File \"c:\\users\\drimbg\\.conda\\envs\\my_env\\lib\\site-packages\\tornado\\gen.py\", line 209, in wrapper\n    yielded = next(result)\n  File \"c:\\users\\drimbg\\.conda\\envs\\my_env\\lib\\site-packages\\ipykernel\\kernelbase.py\", line 267, in dispatch_shell\n    yield gen.maybe_future(handler(stream, idents, msg))\n  File \"c:\\users\\drimbg\\.conda\\envs\\my_env\\lib\\site-packages\\tornado\\gen.py\", line 209, in wrapper\n    yielded = next(result)\n  File \"c:\\users\\drimbg\\.conda\\envs\\my_env\\lib\\site-packages\\ipykernel\\kernelbase.py\", line 534, in execute_request\n    user_expressions, allow_stdin,\n  File \"c:\\users\\drimbg\\.conda\\envs\\my_env\\lib\\site-packages\\tornado\\gen.py\", line 209, in wrapper\n    yielded = next(result)\n  File \"c:\\users\\drimbg\\.conda\\envs\\my_env\\lib\\site-packages\\ipykernel\\ipkernel.py\", line 294, in do_execute\n    res = shell.run_cell(code, store_history=store_history, silent=silent)\n  File \"c:\\users\\drimbg\\.conda\\envs\\my_env\\lib\\site-packages\\ipykernel\\zmqshell.py\", line 536, in run_cell\n    return super(ZMQInteractiveShell, self).run_cell(*args, **kwargs)\n  File \"c:\\users\\drimbg\\.conda\\envs\\my_env\\lib\\site-packages\\IPython\\core\\interactiveshell.py\", line 2848, in run_cell\n    raw_cell, store_history, silent, shell_futures)\n  File \"c:\\users\\drimbg\\.conda\\envs\\my_env\\lib\\site-packages\\IPython\\core\\interactiveshell.py\", line 2874, in _run_cell\n    return runner(coro)\n  File \"c:\\users\\drimbg\\.conda\\envs\\my_env\\lib\\site-packages\\IPython\\core\\async_helpers.py\", line 67, in _pseudo_sync_runner\n    coro.send(None)\n  File \"c:\\users\\drimbg\\.conda\\envs\\my_env\\lib\\site-packages\\IPython\\core\\interactiveshell.py\", line 3049, in run_cell_async\n    interactivity=interactivity, compiler=compiler, result=result)\n  File \"c:\\users\\drimbg\\.conda\\envs\\my_env\\lib\\site-packages\\IPython\\core\\interactiveshell.py\", line 3214, in run_ast_nodes\n    if (yield from self.run_code(code, result)):\n  File \"c:\\users\\drimbg\\.conda\\envs\\my_env\\lib\\site-packages\\IPython\\core\\interactiveshell.py\", line 3296, in run_code\n    exec(code_obj, self.user_global_ns, self.user_ns)\n  File \"<ipython-input-14-48c1f38191e4>\", line 4, in <module>\n    model_1 = RnnModel(paths_train.shape[0], batch_size, features, name='rnn_050')\n  File \"<ipython-input-13-a53fa8ccb189>\", line 32, in __init__\n    self.saver = tf.train.Saver()\n  File \"C:\\Users\\DRIMBG\\AppData\\Roaming\\Python\\Python36\\site-packages\\tensorflow\\python\\training\\saver.py\", line 825, in __init__\n    self.build()\n  File \"C:\\Users\\DRIMBG\\AppData\\Roaming\\Python\\Python36\\site-packages\\tensorflow\\python\\training\\saver.py\", line 837, in build\n    self._build(self._filename, build_save=True, build_restore=True)\n  File \"C:\\Users\\DRIMBG\\AppData\\Roaming\\Python\\Python36\\site-packages\\tensorflow\\python\\training\\saver.py\", line 875, in _build\n    build_restore=build_restore)\n  File \"C:\\Users\\DRIMBG\\AppData\\Roaming\\Python\\Python36\\site-packages\\tensorflow\\python\\training\\saver.py\", line 505, in _build_internal\n    save_tensor = self._AddSaveOps(filename_tensor, saveables)\n  File \"C:\\Users\\DRIMBG\\AppData\\Roaming\\Python\\Python36\\site-packages\\tensorflow\\python\\training\\saver.py\", line 206, in _AddSaveOps\n    save = self.save_op(filename_tensor, saveables)\n  File \"C:\\Users\\DRIMBG\\AppData\\Roaming\\Python\\Python36\\site-packages\\tensorflow\\python\\training\\saver.py\", line 122, in save_op\n    tensors)\n  File \"C:\\Users\\DRIMBG\\AppData\\Roaming\\Python\\Python36\\site-packages\\tensorflow\\python\\ops\\gen_io_ops.py\", line 2059, in save_v2\n    name=name)\n  File \"C:\\Users\\DRIMBG\\AppData\\Roaming\\Python\\Python36\\site-packages\\tensorflow\\python\\framework\\op_def_library.py\", line 788, in _apply_op_helper\n    op_def=op_def)\n  File \"C:\\Users\\DRIMBG\\AppData\\Roaming\\Python\\Python36\\site-packages\\tensorflow\\python\\util\\deprecation.py\", line 507, in new_func\n    return func(*args, **kwargs)\n  File \"C:\\Users\\DRIMBG\\AppData\\Roaming\\Python\\Python36\\site-packages\\tensorflow\\python\\framework\\ops.py\", line 3616, in create_op\n    op_def=op_def)\n  File \"C:\\Users\\DRIMBG\\AppData\\Roaming\\Python\\Python36\\site-packages\\tensorflow\\python\\framework\\ops.py\", line 2005, in __init__\n    self._traceback = tf_stack.extract_stack()\n",
      "\nDuring handling of the above exception, another exception occurred:\n",
      "\u001b[1;31mValueError\u001b[0m                                Traceback (most recent call last)",
      "\u001b[1;32m<ipython-input-15-0bd4ff886951>\u001b[0m in \u001b[0;36m<module>\u001b[1;34m\u001b[0m\n\u001b[0;32m      3\u001b[0m \u001b[1;32mwith\u001b[0m \u001b[0mtf\u001b[0m\u001b[1;33m.\u001b[0m\u001b[0mSession\u001b[0m\u001b[1;33m(\u001b[0m\u001b[1;33m)\u001b[0m \u001b[1;32mas\u001b[0m \u001b[0msess\u001b[0m\u001b[1;33m:\u001b[0m\u001b[1;33m\u001b[0m\u001b[0m\n\u001b[0;32m      4\u001b[0m     \u001b[1;31m# Train Model\u001b[0m\u001b[1;33m\u001b[0m\u001b[1;33m\u001b[0m\u001b[0m\n\u001b[1;32m----> 5\u001b[1;33m     \u001b[0mmodel_1\u001b[0m\u001b[1;33m.\u001b[0m\u001b[0mtraining\u001b[0m\u001b[1;33m(\u001b[0m\u001b[0mpaths_train\u001b[0m\u001b[1;33m,\u001b[0m \u001b[0mnp\u001b[0m\u001b[1;33m.\u001b[0m\u001b[0mones\u001b[0m\u001b[1;33m(\u001b[0m\u001b[0mpaths_train\u001b[0m\u001b[1;33m.\u001b[0m\u001b[0mshape\u001b[0m\u001b[1;33m[\u001b[0m\u001b[1;36m1\u001b[0m\u001b[1;33m]\u001b[0m\u001b[1;33m)\u001b[0m\u001b[1;33m*\u001b[0m\u001b[0mK\u001b[0m\u001b[1;33m,\u001b[0m \u001b[0malpha\u001b[0m\u001b[1;33m,\u001b[0m \u001b[1;36m101\u001b[0m\u001b[1;33m,\u001b[0m \u001b[0msess\u001b[0m\u001b[1;33m)\u001b[0m\u001b[1;33m\u001b[0m\u001b[0m\n\u001b[0m\u001b[0;32m      6\u001b[0m \u001b[0mprint\u001b[0m\u001b[1;33m(\u001b[0m\u001b[1;34m'Training finished, Time elapsed:'\u001b[0m\u001b[1;33m,\u001b[0m \u001b[0mdt\u001b[0m\u001b[1;33m.\u001b[0m\u001b[0mdatetime\u001b[0m\u001b[1;33m.\u001b[0m\u001b[0mnow\u001b[0m\u001b[1;33m(\u001b[0m\u001b[1;33m)\u001b[0m\u001b[1;33m-\u001b[0m\u001b[0mstart\u001b[0m\u001b[1;33m)\u001b[0m\u001b[1;33m\u001b[0m\u001b[0m\n",
      "\u001b[1;32m<ipython-input-13-a53fa8ccb189>\u001b[0m in \u001b[0;36mtraining\u001b[1;34m(self, paths, strikes, riskaversion, epochs, session, init)\u001b[0m\n\u001b[0;32m     70\u001b[0m         \u001b[1;32mif\u001b[0m \u001b[0minit\u001b[0m\u001b[1;33m:\u001b[0m\u001b[1;33m\u001b[0m\u001b[0m\n\u001b[0;32m     71\u001b[0m             \u001b[0msess\u001b[0m\u001b[1;33m.\u001b[0m\u001b[0mrun\u001b[0m\u001b[1;33m(\u001b[0m\u001b[0mtf\u001b[0m\u001b[1;33m.\u001b[0m\u001b[0mglobal_variables_initializer\u001b[0m\u001b[1;33m(\u001b[0m\u001b[1;33m)\u001b[0m\u001b[1;33m)\u001b[0m\u001b[1;33m\u001b[0m\u001b[0m\n\u001b[1;32m---> 72\u001b[1;33m         \u001b[0mself\u001b[0m\u001b[1;33m.\u001b[0m\u001b[0m_execute_graph_batchwise\u001b[0m\u001b[1;33m(\u001b[0m\u001b[0mpaths\u001b[0m\u001b[1;33m,\u001b[0m \u001b[0mstrikes\u001b[0m\u001b[1;33m,\u001b[0m \u001b[0mriskaversion\u001b[0m\u001b[1;33m,\u001b[0m \u001b[0msession\u001b[0m\u001b[1;33m,\u001b[0m \u001b[0mepochs\u001b[0m\u001b[1;33m,\u001b[0m \u001b[0mtrain_flag\u001b[0m\u001b[1;33m=\u001b[0m\u001b[1;32mTrue\u001b[0m\u001b[1;33m)\u001b[0m\u001b[1;33m\u001b[0m\u001b[0m\n\u001b[0m\u001b[0;32m     73\u001b[0m \u001b[1;33m\u001b[0m\u001b[0m\n\u001b[0;32m     74\u001b[0m     \u001b[1;32mdef\u001b[0m \u001b[0mpredict\u001b[0m\u001b[1;33m(\u001b[0m\u001b[0mself\u001b[0m\u001b[1;33m,\u001b[0m \u001b[0mpaths\u001b[0m\u001b[1;33m,\u001b[0m \u001b[0mstrikes\u001b[0m\u001b[1;33m,\u001b[0m \u001b[0mriskaversion\u001b[0m\u001b[1;33m,\u001b[0m \u001b[0msession\u001b[0m\u001b[1;33m)\u001b[0m\u001b[1;33m:\u001b[0m\u001b[1;33m\u001b[0m\u001b[0m\n",
      "\u001b[1;32m<ipython-input-13-a53fa8ccb189>\u001b[0m in \u001b[0;36m_execute_graph_batchwise\u001b[1;34m(self, paths, strikes, riskaversion, sess, epochs, train_flag)\u001b[0m\n\u001b[0;32m     63\u001b[0m                     \u001b[0mprint\u001b[0m\u001b[1;33m(\u001b[0m\u001b[1;34m'Time elapsed:'\u001b[0m\u001b[1;33m,\u001b[0m \u001b[0mdt\u001b[0m\u001b[1;33m.\u001b[0m\u001b[0mdatetime\u001b[0m\u001b[1;33m.\u001b[0m\u001b[0mnow\u001b[0m\u001b[1;33m(\u001b[0m\u001b[1;33m)\u001b[0m\u001b[1;33m-\u001b[0m\u001b[0mstart\u001b[0m\u001b[1;33m)\u001b[0m\u001b[1;33m\u001b[0m\u001b[0m\n\u001b[0;32m     64\u001b[0m                     \u001b[0mprint\u001b[0m\u001b[1;33m(\u001b[0m\u001b[1;34m'Epoch'\u001b[0m\u001b[1;33m,\u001b[0m \u001b[0mepoch\u001b[0m\u001b[1;33m,\u001b[0m \u001b[1;34m'CVaR'\u001b[0m\u001b[1;33m,\u001b[0m \u001b[0mCVaR\u001b[0m\u001b[1;33m)\u001b[0m\u001b[1;33m\u001b[0m\u001b[0m\n\u001b[1;32m---> 65\u001b[1;33m                     \u001b[0mself\u001b[0m\u001b[1;33m.\u001b[0m\u001b[0msaver\u001b[0m\u001b[1;33m.\u001b[0m\u001b[0msave\u001b[0m\u001b[1;33m(\u001b[0m\u001b[0msess\u001b[0m\u001b[1;33m,\u001b[0m \u001b[1;34mr\"/Users/georgedrimba/Desktop/Trading/%s/model.ckpt\"\u001b[0m \u001b[1;33m%\u001b[0m \u001b[0mself\u001b[0m\u001b[1;33m.\u001b[0m\u001b[0mmodelname\u001b[0m\u001b[1;33m)\u001b[0m\u001b[1;33m\u001b[0m\u001b[0m\n\u001b[0m\u001b[0;32m     66\u001b[0m         \u001b[0mself\u001b[0m\u001b[1;33m.\u001b[0m\u001b[0msaver\u001b[0m\u001b[1;33m.\u001b[0m\u001b[0msave\u001b[0m\u001b[1;33m(\u001b[0m\u001b[0msess\u001b[0m\u001b[1;33m,\u001b[0m \u001b[1;34mr\"/Users/georgedrimba/Desktop/Trading/%s/model.ckpt\"\u001b[0m \u001b[1;33m%\u001b[0m \u001b[0mself\u001b[0m\u001b[1;33m.\u001b[0m\u001b[0mmodelname\u001b[0m\u001b[1;33m)\u001b[0m\u001b[1;33m\u001b[0m\u001b[0m\n\u001b[0;32m     67\u001b[0m         \u001b[1;32mreturn\u001b[0m \u001b[0mCVaR\u001b[0m\u001b[1;33m,\u001b[0m \u001b[0mnp\u001b[0m\u001b[1;33m.\u001b[0m\u001b[0mconcatenate\u001b[0m\u001b[1;33m(\u001b[0m\u001b[0mpnls\u001b[0m\u001b[1;33m)\u001b[0m\u001b[1;33m,\u001b[0m \u001b[0mnp\u001b[0m\u001b[1;33m.\u001b[0m\u001b[0mconcatenate\u001b[0m\u001b[1;33m(\u001b[0m\u001b[0mstrategies\u001b[0m\u001b[1;33m,\u001b[0m\u001b[0maxis\u001b[0m\u001b[1;33m=\u001b[0m\u001b[1;36m1\u001b[0m\u001b[1;33m)\u001b[0m\u001b[1;33m\u001b[0m\u001b[0m\n",
      "\u001b[1;32m~\\AppData\\Roaming\\Python\\Python36\\site-packages\\tensorflow\\python\\training\\saver.py\u001b[0m in \u001b[0;36msave\u001b[1;34m(self, sess, save_path, global_step, latest_filename, meta_graph_suffix, write_meta_graph, write_state, strip_default_attrs, save_debug_info)\u001b[0m\n\u001b[0;32m   1188\u001b[0m               \"Parent directory of {} doesn't exist, can't save.\".format(\n\u001b[0;32m   1189\u001b[0m                   save_path))\n\u001b[1;32m-> 1190\u001b[1;33m         \u001b[1;32mraise\u001b[0m \u001b[0mexc\u001b[0m\u001b[1;33m\u001b[0m\u001b[0m\n\u001b[0m\u001b[0;32m   1191\u001b[0m \u001b[1;33m\u001b[0m\u001b[0m\n\u001b[0;32m   1192\u001b[0m     \u001b[1;32mif\u001b[0m \u001b[0mwrite_meta_graph\u001b[0m\u001b[1;33m:\u001b[0m\u001b[1;33m\u001b[0m\u001b[0m\n",
      "\u001b[1;31mValueError\u001b[0m: Parent directory of /Users/georgedrimba/Desktop/Trading/rnn_050/model.ckpt doesn't exist, can't save."
     ]
    }
   ],
   "source": [
    "# Training the model takes about a few minutes\n",
    "start = dt.datetime.now()\n",
    "with tf.Session() as sess:\n",
    "    # Train Model\n",
    "    model_1.training(paths_train, np.ones(paths_train.shape[1])*K, alpha, 101, sess)\n",
    "print('Training finished, Time elapsed:', dt.datetime.now()-start)"
   ]
  },
  {
   "cell_type": "markdown",
   "metadata": {},
   "source": [
    "## Compare Blackscholes vs RNN \n",
    "\n",
    "### Out of sample test"
   ]
  },
  {
   "cell_type": "code",
   "execution_count": null,
   "metadata": {},
   "outputs": [],
   "source": [
    "# Test set from the the same process but unseen\n",
    "alpha = 0.99\n",
    "paths_test_1 =  monte_carlo_paths(S_0, T, vol, r, 21122017, 10000, timesteps)\n",
    "with tf.Session() as sess:\n",
    "    model_1.restore(sess, '/Users/matthiasgroncki/models/rnn_099/model.ckpt')\n",
    "    test1_results = model_1.predict(paths_test_1, np.ones(paths_test_1.shape[1])*K, alpha, sess)"
   ]
  },
  {
   "cell_type": "code",
   "execution_count": null,
   "metadata": {},
   "outputs": [],
   "source": [
    "_,_,_,portfolio_pnl_bs, deltas_bs = black_scholes_hedge_strategy(S_0,K, r, vol, T, paths_test_1, alpha, True)\n",
    "plt.figure()\n",
    "_,_,_,portfolio_pnl_rnn, deltas_rnn = test_hedging_strategy(test1_results[2], paths_test_1, K, 2.302974467802428, alpha, True)\n",
    "plot_deltas(paths_test_1, deltas_bs, deltas_rnn)\n",
    "plt.savefig('rnn_050_deltas_1.png')\n",
    "plot_strategy_pnl(portfolio_pnl_bs, portfolio_pnl_rnn)\n",
    "plt.savefig('rnn_050_box_1.png')"
   ]
  },
  {
   "cell_type": "markdown",
   "metadata": {},
   "source": [
    "## Out of sample test with different moneyness of the option"
   ]
  },
  {
   "cell_type": "code",
   "execution_count": null,
   "metadata": {},
   "outputs": [],
   "source": [
    "# Test set from the the same process but unseen\n",
    "with tf.Session() as sess:\n",
    "    model_1.restore(sess, '/Users/matthiasgroncki/models/rnn_050/model.ckpt')\n",
    "    test1a_results = model_1.predict(paths_test_1, np.ones(paths_test_1.shape[1])*(K-5), alpha, sess)"
   ]
  },
  {
   "cell_type": "code",
   "execution_count": null,
   "metadata": {},
   "outputs": [],
   "source": [
    "_,_,_,portfolio_pnl_bs, deltas_bs = black_scholes_hedge_strategy(S_0,K-5, r, vol, T, paths_test_1, alpha, True)\n",
    "plt.figure()\n",
    "_,_,_,portfolio_pnl_rnn, deltas_rnn = test_hedging_strategy(test1a_results[2], paths_test_1, K-5, 5.57, alpha, True)\n",
    "plot_deltas(paths_test_1, deltas_bs, deltas_rnn)\n",
    "plt.savefig('rnn_050_deltas_2.png')\n",
    "plot_strategy_pnl(portfolio_pnl_bs, portfolio_pnl_rnn)\n",
    "plt.savefig('rnn_050_box_2.png')"
   ]
  },
  {
   "cell_type": "code",
   "execution_count": null,
   "metadata": {},
   "outputs": [],
   "source": [
    "# Test set from the the same process but unseen\n",
    "with tf.Session() as sess:\n",
    "    model_1.restore(sess, '/Users/matthiasgroncki/models/rnn_050/model.ckpt')\n",
    "    test1b_results = model_1.predict(paths_test_1, np.ones(paths_test_1.shape[1])*(K+5), alpha, sess)\n",
    "    \n",
    "\n",
    "\n"
   ]
  },
  {
   "cell_type": "code",
   "execution_count": null,
   "metadata": {},
   "outputs": [],
   "source": [
    "_,_,_,portfolio_pnl_bs, deltas_bs = black_scholes_hedge_strategy(S_0,K+5, r, vol, T, paths_test_1, alpha, True)\n",
    "plt.figure()\n",
    "_,_,_,portfolio_pnl_rnn, deltas_rnn = test_hedging_strategy(test1b_results[2], paths_test_1, K+5, 0.65, alpha, True)\n",
    "plot_deltas(paths_test_1, deltas_bs, deltas_rnn)\n",
    "plot_strategy_pnl(portfolio_pnl_bs, portfolio_pnl_rnn)"
   ]
  },
  {
   "cell_type": "markdown",
   "metadata": {},
   "source": [
    "### Out of sample different drift"
   ]
  },
  {
   "cell_type": "code",
   "execution_count": null,
   "metadata": {},
   "outputs": [],
   "source": [
    "# Test set 2: Assume the drift of the underlying is 4% per month under the real world measure \n",
    "paths_test_2 = monte_carlo_paths(S_0, T, vol, 0.48-r, 21122017, 10000, timesteps)\n",
    "# Test set from the the same process but unseen\n",
    "with tf.Session() as sess:\n",
    "    model_1.restore(sess, '/Users/matthiasgroncki/models/rnn_050/model.ckpt')\n",
    "    test2_results = model_1.predict(paths_test_2, np.ones(paths_test_2.shape[1])*K, alpha, sess)"
   ]
  },
  {
   "cell_type": "code",
   "execution_count": null,
   "metadata": {},
   "outputs": [],
   "source": [
    "_,_,_,portfolio_pnl_bs, deltas_bs = black_scholes_hedge_strategy(S_0,K, r, vol, T, paths_test_2, alpha, True)\n",
    "plt.figure()\n",
    "_,_,_,portfolio_pnl_rnn, deltas_rnn = test_hedging_strategy(test2_results[2], paths_test_2, K, 2.30, alpha, True)\n",
    "plot_deltas(paths_test_2, deltas_bs, deltas_rnn)\n",
    "plt.savefig('rnn_050_deltas_3.png')\n",
    "plot_strategy_pnl(portfolio_pnl_bs, portfolio_pnl_rnn)\n",
    "plt.savefig('rnn_050_box_3.png')"
   ]
  },
  {
   "cell_type": "markdown",
   "metadata": {},
   "source": [
    "### Out of sample and shifted volatility"
   ]
  },
  {
   "cell_type": "code",
   "execution_count": null,
   "metadata": {},
   "outputs": [],
   "source": [
    "# Test set 3: Assume the volatility is not constant and the realized volatility is 5% higher \n",
    "# than the implied (historical observed) one\n",
    "paths_test_3 = monte_carlo_paths(S_0, T, vol+0.05, r, 21122017, 10000, timesteps)\n",
    "# Test set from the the same process but unseen\n",
    "with tf.Session() as sess:\n",
    "    model_1.restore(sess, '/Users/matthiasgroncki/models/rnn_050/model.ckpt')\n",
    "    test3_results = model_1.predict(paths_test_3, np.ones(paths_test_3.shape[1])*K, alpha, sess)"
   ]
  },
  {
   "cell_type": "code",
   "execution_count": null,
   "metadata": {},
   "outputs": [],
   "source": [
    "_,_,_,portfolio_pnl_bs, deltas_bs = black_scholes_hedge_strategy(S_0,K, r, vol, T, paths_test_3, alpha, True)\n",
    "plt.figure()\n",
    "_,_,_,portfolio_pnl_rnn, deltas_rnn = test_hedging_strategy(test3_results[2], paths_test_3, K, 2.30, alpha, True)\n",
    "plot_deltas(paths_test_3, deltas_bs, deltas_rnn)\n",
    "plt.savefig('rnn_050_deltas_4.png')\n",
    "plot_strategy_pnl(portfolio_pnl_bs, portfolio_pnl_rnn)\n",
    "plt.savefig('rnn_050_box_4.png')"
   ]
  },
  {
   "cell_type": "code",
   "execution_count": null,
   "metadata": {},
   "outputs": [],
   "source": []
  }
 ],
 "metadata": {
  "kernelspec": {
   "display_name": "Python 3",
   "language": "python",
   "name": "python3"
  },
  "language_info": {
   "codemirror_mode": {
    "name": "ipython",
    "version": 3
   },
   "file_extension": ".py",
   "mimetype": "text/x-python",
   "name": "python",
   "nbconvert_exporter": "python",
   "pygments_lexer": "ipython3",
   "version": "3.6.2"
  }
 },
 "nbformat": 4,
 "nbformat_minor": 2
}
