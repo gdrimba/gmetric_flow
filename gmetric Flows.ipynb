{
 "cells": [
  {
   "cell_type": "markdown",
   "metadata": {},
   "source": [
    "# Research"
   ]
  },
  {
   "cell_type": "code",
   "execution_count": null,
   "metadata": {
    "scrolled": true
   },
   "outputs": [],
   "source": [
    "import tensorflow as tf\n",
    "import numpy as np\n",
    "import matplotlib.pyplot as plt\n",
    "import seaborn as sns\n",
    "import matplotlib as mpl\n",
    "import pandas as pd\n",
    "from tensorflow import keras\n",
    "from numpy import array\n",
    "from keras.models import Sequential\n",
    "from keras.layers import LSTM\n",
    "from keras.layers import Dense\n",
    "import pandas_datareader.data as web\n",
    "from datetime import datetime\n",
    "import scipy.stats as scs\n",
    "import statsmodels.api as sm\n",
    "import scipy.optimize as sco\n",
    "#import pandas_profiling\n",
    "from functools import reduce"
   ]
  },
  {
   "cell_type": "code",
   "execution_count": 7,
   "metadata": {},
   "outputs": [
    {
     "ename": "ModuleNotFoundError",
     "evalue": "No module named 'missingno'",
     "output_type": "error",
     "traceback": [
      "\u001b[0;31m---------------------------------------------------------------------------\u001b[0m",
      "\u001b[0;31mModuleNotFoundError\u001b[0m                       Traceback (most recent call last)",
      "\u001b[0;32m<ipython-input-7-78ec410b3cd4>\u001b[0m in \u001b[0;36m<module>\u001b[0;34m\u001b[0m\n\u001b[1;32m      2\u001b[0m \u001b[0mflatui\u001b[0m \u001b[0;34m=\u001b[0m \u001b[0;34m[\u001b[0m\u001b[0;34m\"#9b59b6\"\u001b[0m\u001b[0;34m,\u001b[0m \u001b[0;34m\"#3498db\"\u001b[0m\u001b[0;34m,\u001b[0m \u001b[0;34m\"#95a5a6\"\u001b[0m\u001b[0;34m,\u001b[0m \u001b[0;34m\"#e74c3c\"\u001b[0m\u001b[0;34m,\u001b[0m \u001b[0;34m\"#34495e\"\u001b[0m\u001b[0;34m,\u001b[0m \u001b[0;34m\"#2ecc71\"\u001b[0m\u001b[0;34m,\u001b[0m\u001b[0;34m\"#f4cae4\"\u001b[0m\u001b[0;34m]\u001b[0m\u001b[0;34m\u001b[0m\u001b[0;34m\u001b[0m\u001b[0m\n\u001b[1;32m      3\u001b[0m \u001b[0msns\u001b[0m\u001b[0;34m.\u001b[0m\u001b[0mset_palette\u001b[0m\u001b[0;34m(\u001b[0m\u001b[0msns\u001b[0m\u001b[0;34m.\u001b[0m\u001b[0mcolor_palette\u001b[0m\u001b[0;34m(\u001b[0m\u001b[0mflatui\u001b[0m\u001b[0;34m,\u001b[0m\u001b[0;36m7\u001b[0m\u001b[0;34m)\u001b[0m\u001b[0;34m)\u001b[0m\u001b[0;34m\u001b[0m\u001b[0;34m\u001b[0m\u001b[0m\n\u001b[0;32m----> 4\u001b[0;31m \u001b[0;32mimport\u001b[0m \u001b[0mmissingno\u001b[0m \u001b[0;32mas\u001b[0m \u001b[0mmsno\u001b[0m\u001b[0;34m\u001b[0m\u001b[0;34m\u001b[0m\u001b[0m\n\u001b[0m\u001b[1;32m      5\u001b[0m \u001b[0mp\u001b[0m\u001b[0;34m=\u001b[0m\u001b[0mprint\u001b[0m\u001b[0;34m\u001b[0m\u001b[0;34m\u001b[0m\u001b[0m\n\u001b[1;32m      6\u001b[0m \u001b[0;34m\u001b[0m\u001b[0m\n",
      "\u001b[0;31mModuleNotFoundError\u001b[0m: No module named 'missingno'"
     ]
    }
   ],
   "source": [
    "sns.set_style('white', {\"xtick.major.size\": 2, \"ytick.major.size\": 2})\n",
    "flatui = [\"#9b59b6\", \"#3498db\", \"#95a5a6\", \"#e74c3c\", \"#34495e\", \"#2ecc71\",\"#f4cae4\"]\n",
    "sns.set_palette(sns.color_palette(flatui,7))\n",
    "import missingno as msno\n",
    "p=print\n",
    "\n",
    "# get index and fed data\n",
    "\n",
    "f1 = 'USREC' # recession data from FRED\n",
    "\n",
    "start = pd.to_datetime('1975-01-01')\n",
    "end = pd.datetime.today()\n",
    "\n",
    "mkt = '^GSPC'\n",
    "MKT = (web.DataReader([mkt,'^VIX'], 'yahoo', start, end)['Adj Close']\n",
    "      .resample('MS') # month start b/c FED data is month start\n",
    "       .mean()\n",
    "       .rename(columns={mkt:'SPX','^VIX':'VIX'})\n",
    "       .assign(SPX_returns=lambda x: np.log(x['SPX']/x['SPX'].shift(1)))\n",
    "       .assign(VIX_returns=lambda x: np.log(x['VIX']/x['VIX'].shift(1)))\n",
    "       )\n",
    "\n",
    "recData = (web.DataReader([f1], 'fred', start, end)\n",
    "        .join(MKT, how='outer')\n",
    "        .dropna())\n",
    "# recessions are marked as 1 in the data\n",
    "recs = recData.query('USREC==1')\n",
    "\n",
    "# Select the three recessions over the time period\n",
    "recs_pre = recs.loc['1990':'1991']\n",
    "recs_2k = recs.loc['2001']\n",
    "recs_2k8 = recs.loc['2008':]\n",
    "\n",
    "# now we can grab the indices for the start\n",
    "# and end of each recession\n",
    "recspre_bgn = recs_pre.index[0]\n",
    "recspre_end = recs_pre.index[-1]\n",
    "recs2k_bgn = recs_2k.index[0]\n",
    "recs2k_end = recs_2k.index[-1]\n",
    "recs2k8_bgn = recs_2k8.index[0]\n",
    "recs2k8_end = recs_2k8.index[-1]\n"
   ]
  },
  {
   "cell_type": "code",
   "execution_count": null,
   "metadata": {},
   "outputs": [],
   "source": []
  },
  {
   "cell_type": "code",
   "execution_count": null,
   "metadata": {},
   "outputs": [],
   "source": []
  },
  {
   "cell_type": "code",
   "execution_count": null,
   "metadata": {},
   "outputs": [],
   "source": []
  },
  {
   "cell_type": "code",
   "execution_count": null,
   "metadata": {},
   "outputs": [],
   "source": [
    "test = web.get_data_yahoo('PFE',start=datetime(2005, 1, 1))"
   ]
  },
  {
   "cell_type": "code",
   "execution_count": null,
   "metadata": {},
   "outputs": [],
   "source": [
    "HiLo = (test.groupby(pd.Grouper(freq=\"M\")).max() + test.groupby(pd.Grouper(freq=\"M\")).min())*.5\n",
    "FiLa = (test.groupby(pd.Grouper(freq=\"M\")).last() + test.groupby(pd.Grouper(freq=\"M\")).first())*.5"
   ]
  },
  {
   "cell_type": "code",
   "execution_count": null,
   "metadata": {},
   "outputs": [],
   "source": [
    "['PFE','XLU', 'XLY','XLF','XPH','SPY'] "
   ]
  },
  {
   "cell_type": "code",
   "execution_count": null,
   "metadata": {},
   "outputs": [],
   "source": []
  },
  {
   "cell_type": "code",
   "execution_count": 4,
   "metadata": {},
   "outputs": [],
   "source": [
    "def spec_graph(sym, start=None, end=None):\n",
    "    df_dict ={}\n",
    "    for x in sym:\n",
    "        df_dict[x] = web.get_data_yahoo(x,start=datetime(1970, 1, 1))[\"Adj Close\"]\n",
    "    data = pd.DataFrame(df_dict)\n",
    "    data = (data.groupby(pd.Grouper(freq=\"M\")).last() + data.groupby(pd.Grouper(freq=\"M\")).first())*.5\n",
    "    data = np.log(data / data.shift(1))\n",
    "    data = data[start:end]\n",
    "    style=itertools.cycle(['--','-','-','-','-','-.'])\n",
    "    width=itertools.cycle([9,5,5,5,5,9])\n",
    "    msize=itertools.cycle([14,9,9,9,9,14])\n",
    "    for x in sym:\n",
    "        ax = data[x].plot(subplots=False, linestyle=next(style), marker='o', ms=next(msize), lw= next(width),figsize=(15,10))#, color= [\"#34495e\", \"#2ecc71\",\"#e74c3c\", '#17becf'])\n",
    "    ax.axvspan(recspre_bgn, recspre_end, color=sns.xkcd_rgb['grey'], alpha=0.5)\n",
    "    ax.axvspan(recs2k_bgn, recs2k_end, color=sns.xkcd_rgb['grey'], alpha=0.5)\n",
    "    ax.axvspan(recs2k8_bgn, recs2k8_end,  color=sns.xkcd_rgb['grey'], alpha=0.5)\n",
    "\n",
    "    ax.axhline(0, color='k', linestyle='-', linewidth=1)\n",
    "\n",
    "    ax.set_title(\"Monthly Returns\", fontsize=28)\n",
    "\n",
    "    ax.set_ylabel('Returns', fontsize = 28)\n",
    "    ax.set_xlabel('')\n",
    "\n",
    "    yticks = ax.get_yticks()\n",
    "    ax.set_yticklabels(['{:3.1f}%'.format(x*100) for x in yticks]);\n",
    "\n",
    "    dates_rng = pd.date_range(data.index[0], data.index[-1], freq='3m')\n",
    "    plt.xticks(dates_rng, [dtz.strftime('%b-%y') for dtz in dates_rng], rotation=45, fontsize=28)\n",
    "\n",
    "    ax.tick_params(axis='both', which='major', labelsize=28)\n",
    "    ax.legend(loc='upper left', fontsize=28, frameon=True).get_frame().set_edgecolor('blue')  \n",
    "\n",
    "\n",
    "    \n",
    "\n",
    "    # now to use tight layout\n",
    "    plt.tight_layout()\n"
   ]
  },
  {
   "cell_type": "code",
   "execution_count": 161,
   "metadata": {
    "scrolled": false
   },
   "outputs": [
    {
     "data": {
      "image/png": "[encoded data removed]",
      "text/plain": [
       "<Figure size 1080x720 with 1 Axes>"
      ]
     },
     "metadata": {},
     "output_type": "display_data"
    }
   ],
   "source": [
    "spec_graph(['PFE','XLU', 'XLY','XLF','XPH','SPY'],\"01-2001\", \"02-2002\")"
   ]
  },
  {
   "cell_type": "code",
   "execution_count": 5,
   "metadata": {
    "scrolled": false
   },
   "outputs": [
    {
     "ename": "NameError",
     "evalue": "name 'itertools' is not defined",
     "output_type": "error",
     "traceback": [
      "\u001b[0;31m---------------------------------------------------------------------------\u001b[0m",
      "\u001b[0;31mNameError\u001b[0m                                 Traceback (most recent call last)",
      "\u001b[0;32m<ipython-input-5-ea3cd676778e>\u001b[0m in \u001b[0;36m<module>\u001b[0;34m\u001b[0m\n\u001b[0;32m----> 1\u001b[0;31m \u001b[0mspec_graph\u001b[0m\u001b[0;34m(\u001b[0m\u001b[0;34m[\u001b[0m\u001b[0;34m'LOW'\u001b[0m\u001b[0;34m,\u001b[0m\u001b[0;34m'HD'\u001b[0m\u001b[0;34m,\u001b[0m\u001b[0;34m'SPY'\u001b[0m\u001b[0;34m]\u001b[0m\u001b[0;34m,\u001b[0m\u001b[0;34m\"10-2007\"\u001b[0m\u001b[0;34m,\u001b[0m \u001b[0;34m\"08-2009\"\u001b[0m\u001b[0;34m)\u001b[0m\u001b[0;34m\u001b[0m\u001b[0;34m\u001b[0m\u001b[0m\n\u001b[0m",
      "\u001b[0;32m<ipython-input-4-c7e64105f782>\u001b[0m in \u001b[0;36mspec_graph\u001b[0;34m(sym, start, end)\u001b[0m\n\u001b[1;32m      7\u001b[0m     \u001b[0mdata\u001b[0m \u001b[0;34m=\u001b[0m \u001b[0mnp\u001b[0m\u001b[0;34m.\u001b[0m\u001b[0mlog\u001b[0m\u001b[0;34m(\u001b[0m\u001b[0mdata\u001b[0m \u001b[0;34m/\u001b[0m \u001b[0mdata\u001b[0m\u001b[0;34m.\u001b[0m\u001b[0mshift\u001b[0m\u001b[0;34m(\u001b[0m\u001b[0;36m1\u001b[0m\u001b[0;34m)\u001b[0m\u001b[0;34m)\u001b[0m\u001b[0;34m\u001b[0m\u001b[0;34m\u001b[0m\u001b[0m\n\u001b[1;32m      8\u001b[0m     \u001b[0mdata\u001b[0m \u001b[0;34m=\u001b[0m \u001b[0mdata\u001b[0m\u001b[0;34m[\u001b[0m\u001b[0mstart\u001b[0m\u001b[0;34m:\u001b[0m\u001b[0mend\u001b[0m\u001b[0;34m]\u001b[0m\u001b[0;34m\u001b[0m\u001b[0;34m\u001b[0m\u001b[0m\n\u001b[0;32m----> 9\u001b[0;31m     \u001b[0mstyle\u001b[0m\u001b[0;34m=\u001b[0m\u001b[0mitertools\u001b[0m\u001b[0;34m.\u001b[0m\u001b[0mcycle\u001b[0m\u001b[0;34m(\u001b[0m\u001b[0;34m[\u001b[0m\u001b[0;34m'--'\u001b[0m\u001b[0;34m,\u001b[0m\u001b[0;34m'-'\u001b[0m\u001b[0;34m,\u001b[0m\u001b[0;34m'-'\u001b[0m\u001b[0;34m,\u001b[0m\u001b[0;34m'-'\u001b[0m\u001b[0;34m,\u001b[0m\u001b[0;34m'-'\u001b[0m\u001b[0;34m,\u001b[0m\u001b[0;34m'-.'\u001b[0m\u001b[0;34m]\u001b[0m\u001b[0;34m)\u001b[0m\u001b[0;34m\u001b[0m\u001b[0;34m\u001b[0m\u001b[0m\n\u001b[0m\u001b[1;32m     10\u001b[0m     \u001b[0mwidth\u001b[0m\u001b[0;34m=\u001b[0m\u001b[0mitertools\u001b[0m\u001b[0;34m.\u001b[0m\u001b[0mcycle\u001b[0m\u001b[0;34m(\u001b[0m\u001b[0;34m[\u001b[0m\u001b[0;36m9\u001b[0m\u001b[0;34m,\u001b[0m\u001b[0;36m5\u001b[0m\u001b[0;34m,\u001b[0m\u001b[0;36m5\u001b[0m\u001b[0;34m,\u001b[0m\u001b[0;36m5\u001b[0m\u001b[0;34m,\u001b[0m\u001b[0;36m5\u001b[0m\u001b[0;34m,\u001b[0m\u001b[0;36m9\u001b[0m\u001b[0;34m]\u001b[0m\u001b[0;34m)\u001b[0m\u001b[0;34m\u001b[0m\u001b[0;34m\u001b[0m\u001b[0m\n\u001b[1;32m     11\u001b[0m     \u001b[0mmsize\u001b[0m\u001b[0;34m=\u001b[0m\u001b[0mitertools\u001b[0m\u001b[0;34m.\u001b[0m\u001b[0mcycle\u001b[0m\u001b[0;34m(\u001b[0m\u001b[0;34m[\u001b[0m\u001b[0;36m14\u001b[0m\u001b[0;34m,\u001b[0m\u001b[0;36m9\u001b[0m\u001b[0;34m,\u001b[0m\u001b[0;36m9\u001b[0m\u001b[0;34m,\u001b[0m\u001b[0;36m9\u001b[0m\u001b[0;34m,\u001b[0m\u001b[0;36m9\u001b[0m\u001b[0;34m,\u001b[0m\u001b[0;36m14\u001b[0m\u001b[0;34m]\u001b[0m\u001b[0;34m)\u001b[0m\u001b[0;34m\u001b[0m\u001b[0;34m\u001b[0m\u001b[0m\n",
      "\u001b[0;31mNameError\u001b[0m: name 'itertools' is not defined"
     ]
    }
   ],
   "source": [
    "spec_graph(['LOW','HD','SPY'],\"10-2007\", \"08-2009\")"
   ]
  },
  {
   "cell_type": "code",
   "execution_count": null,
   "metadata": {},
   "outputs": [],
   "source": [
    "def pro_graph(sym, start=None, end=None):\n",
    "    plot_labels = dict(zip(sym,[[x+'_min_',x+'_max_',x+'_min_idx_',x+'_max_idx_']for x in sym]))\n",
    "    df_dict ={}\n",
    "    for x in sym:\n",
    "        df_dict[x] = web.get_data_yahoo(x,start=datetime(1970, 1, 1))[\"Adj Close\"]\n",
    "    data = pd.DataFrame(df_dict)\n",
    "    data = np.log(data / data.shift(1))\n",
    "    data = data[start:end]\n",
    "    \n",
    "    for x in sym:\n",
    "        plot_labels[x][0] = data[x].min()\n",
    "        plot_labels[x][1] = data[x].max()\n",
    "        plot_labels[x][2] = data[x].idxmin(axis=0, skipna=True)\n",
    "        plot_labels[x][3] = data[x].idxmax(axis=0, skipna=True)\n",
    "    \n",
    "    fig, axes = plt.subplots(len(sym),1, figsize=(35,20), sharex=True)\n",
    "    data[sym].plot(subplots=True, ax=axes, marker='o', ms=2, color= [\"#34495e\", \"#2ecc71\",\"#e74c3c\", '#17becf'])\n",
    "\n",
    "    for ax, col in zip(axes, sym):\n",
    "        ax.axvspan(recspre_bgn, recspre_end, color=sns.xkcd_rgb['grey'], alpha=0.5)\n",
    "        ax.axvspan(recs2k_bgn, recs2k_end, color=sns.xkcd_rgb['grey'], alpha=0.5)\n",
    "        ax.axvspan(recs2k8_bgn, recs2k8_end,  color=sns.xkcd_rgb['grey'], alpha=0.5)\n",
    "        \n",
    "        ax.axhline(0, color='k', linestyle='-', linewidth=1)\n",
    "        \n",
    "        ax.set_title(col, fontsize=48)\n",
    "        \n",
    "        ax.set_ylabel('Returns', fontsize = 28)\n",
    "        ax.set_xlabel('')\n",
    "        \n",
    "        yticks = ax.get_yticks()\n",
    "        ax.set_yticklabels(['{:3.1f}%'.format(x*100) for x in yticks]);\n",
    "\n",
    "        dates_rng = pd.date_range(data.index[0], data.index[-1], freq='1Y')\n",
    "        plt.xticks(dates_rng, [dtz.strftime('%Y') for dtz in dates_rng], rotation=45, fontsize=28)\n",
    "        \n",
    "        ax.tick_params(axis='both', which='major', labelsize=28)\n",
    "        ax.legend(loc='upper left', fontsize=28, frameon=True).get_frame().set_edgecolor('blue')  \n",
    "\n",
    "\n",
    "    bbox_props = dict(boxstyle=\"round4, pad=0.6\", fc='ivory', ec=\"black\", lw=.5)\n",
    "    \n",
    "    for x in sym:\n",
    "        axes[sym.index(x)].annotate('Global Max = {:.2%}\\nDate = {}'\n",
    "                         .format(plot_labels[x][1], plot_labels[x][3].strftime('%a, %Y-%m-%d')),\n",
    "                    xy=(plot_labels[x][3], plot_labels[x][1]),  \n",
    "                    xycoords='data',\n",
    "                    xytext=(-150, -30),      \n",
    "                    textcoords='offset points',\n",
    "                    arrowprops=dict(arrowstyle=\"->\",ec='black'),size=22, bbox=bbox_props)    \n",
    "\n",
    "        axes[sym.index(x)].annotate('Global Min = {:.2%}\\nDate = {}'\n",
    "                         .format(plot_labels[x][0], plot_labels[x][2].strftime('%a, %Y-%m-%d')),\n",
    "                    xy=(plot_labels[x][2], plot_labels[x][0]),  \n",
    "                    xycoords='data',\n",
    "                    xytext=(-150, 30),      \n",
    "                    textcoords='offset points',\n",
    "                    arrowprops=dict(arrowstyle=\"->\",ec='black'),size=22, bbox=bbox_props) \n",
    "    # now to use tight layout\n",
    "    plt.tight_layout()\n"
   ]
  },
  {
   "cell_type": "code",
   "execution_count": 183,
   "metadata": {},
   "outputs": [
    {
     "data": {
      "text/plain": [
       "[0, 1, 2, 3, 4, 5, 6, 7, 8, 9]"
      ]
     },
     "execution_count": 183,
     "metadata": {},
     "output_type": "execute_result"
    }
   ],
   "source": []
  },
  {
   "cell_type": "code",
   "execution_count": 179,
   "metadata": {},
   "outputs": [],
   "source": [
    "#[data[x].first_valid_index() for x in sym]\n",
    "#data.apply(lambda col: col.first_valid_index())"
   ]
  },
  {
   "cell_type": "code",
   "execution_count": null,
   "metadata": {},
   "outputs": [],
   "source": [
    "sym = ['PFE','MRK','JNJ','NVS','GSK','SNY','RHHBY','ABBV']\n",
    "df_dict ={}\n",
    "for x in sym:\n",
    "    df_dict[x] = web.get_data_yahoo(x,start=datetime(1970, 1, 1))[\"Adj Close\"]\n",
    "data = pd.DataFrame(df_dict)"
   ]
  },
  {
   "cell_type": "code",
   "execution_count": null,
   "metadata": {},
   "outputs": [],
   "source": [
    "US = ['PFE','MRK','JNJ','ABBV']\n",
    "EU = ['NVS','GSK','SNY','RHHBY']"
   ]
  },
  {
   "cell_type": "code",
   "execution_count": null,
   "metadata": {
    "scrolled": false
   },
   "outputs": [],
   "source": [
    "#general market\n",
    "gm = ['SPY','FEZ','^VIX',]\n",
    "#Defensive \n",
    "defense = ['XLV','XLU','XLP','WMT','GLD', 'SHY', 'LMT']\n",
    "#Cyclicals\n",
    "cycl =['^DJI','XPH','QQQ','AMZN','MSFT', 'XLY']\n",
    "\n",
    "sym2 = gm + defense +cycl\n",
    "df_dict2 ={}\n",
    "for x in sym2:\n",
    "    df_dict2[x] = web.get_data_yahoo(x,start=datetime(1970, 1, 1))[\"Adj Close\"]\n",
    "metrics = pd.DataFrame(df_dict2)"
   ]
  },
  {
   "cell_type": "code",
   "execution_count": null,
   "metadata": {},
   "outputs": [],
   "source": [
    "pro_graph(US,'1999')"
   ]
  },
  {
   "cell_type": "code",
   "execution_count": null,
   "metadata": {},
   "outputs": [],
   "source": [
    "#recession1 = datetime.datetime(1990,2,2)\n",
    "#str(recession1 + datetime.timedelta(days=1))"
   ]
  },
  {
   "cell_type": "code",
   "execution_count": null,
   "metadata": {},
   "outputs": [],
   "source": []
  },
  {
   "cell_type": "code",
   "execution_count": null,
   "metadata": {},
   "outputs": [],
   "source": [
    "sym3 = ['SPY', '^VIX',\"QQQ\", \"XLP\", 'XLU']\n",
    "#pro_graph(sym3,'1999')"
   ]
  },
  {
   "cell_type": "code",
   "execution_count": null,
   "metadata": {
    "scrolled": false
   },
   "outputs": [],
   "source": [
    "def etf_contstructor(sym, start=None, end=None):\n",
    "    df_dict ={}\n",
    "    for x in sym:\n",
    "        df_dict[x] = web.get_data_yahoo(x,start=datetime(1970, 1, 1))[\"Adj Close\"]\n",
    "    data = pd.DataFrame(df_dict)\n",
    "    data= data.dropna()\n",
    "    mc = pd.read_excel('marketcap.xlsx',index_col=0)\n",
    "    mc = mc[sym]\n",
    "    wghts = mc.div(mc.sum(axis=1), axis=0)\n",
    "    start_date = wghts.index.min() - pd.DateOffset(day=1)\n",
    "    end_date = wghts.index.max() + pd.DateOffset(day=31)\n",
    "    dates = pd.date_range(start_date, end_date, freq='D')\n",
    "    dates.name = 'date'\n",
    "    data = data[start:end]\n",
    "    wghts = wghts.reindex(dates, method='ffill')\n",
    "    wghts = wghts[data.columns]\n",
    "    wghts = wghts.loc[data.index]\n",
    "    etf = pd.DataFrame(wghts.values*data.values, columns=wghts.columns, index=wghts.index).sum(axis=1)\n",
    "    etf= pd.DataFrame(etf,columns=['etf'])\n",
    "    return etf"
   ]
  },
  {
   "cell_type": "code",
   "execution_count": null,
   "metadata": {},
   "outputs": [],
   "source": [
    "def etf_graph(etf_names, etfs_df, start=None, end=None):\n",
    "    plot_labels = dict(zip(etf_names,[[x+'_min_',x+'_max_',x+'_min_idx_',x+'_max_idx_']for x in etf_names]))\n",
    "    df_dict ={}\n",
    "    data= etfs_df\n",
    "    data = np.log(data / data.shift(1))\n",
    "    data = data[start:end]\n",
    "    for x in etf_names:\n",
    "        plot_labels[x][0] = data[x].min()\n",
    "        plot_labels[x][1] = data[x].max()\n",
    "        plot_labels[x][2] = data[x].idxmin(axis=0, skipna=True)\n",
    "        plot_labels[x][3] = data[x].idxmax(axis=0, skipna=True)\n",
    "    \n",
    "    fig, axes = plt.subplots(len(etf_names),1, figsize=(65,20), sharex=True)\n",
    "    data[etf_names].plot(subplots=True, ax=axes, marker='o', ms=2)\n",
    "\n",
    "    for ax, col in zip(axes, etf_names):\n",
    "        ax.axvspan(recspre_bgn, recspre_end, color=sns.xkcd_rgb['grey'], alpha=0.5)\n",
    "        ax.axvspan(recs2k_bgn, recs2k_end, color=sns.xkcd_rgb['grey'], alpha=0.5)\n",
    "        ax.axvspan(recs2k8_bgn, recs2k8_end,  color=sns.xkcd_rgb['grey'], alpha=0.5)\n",
    "    \n",
    "        ax.axhline(0, color='k', linestyle='-', linewidth=1)\n",
    "        \n",
    "        ax.set_title(col, fontsize=48)\n",
    "        \n",
    "        ax.set_ylabel('Returns', fontsize =48)\n",
    "        ax.set_xlabel('')\n",
    "        \n",
    "        yticks = ax.get_yticks()\n",
    "        ax.set_yticklabels(['{:3.1f}%'.format(x*100) for x in yticks])\n",
    "\n",
    "        dates_rng = pd.date_range(data.index[0], data.index[-1], freq='2Y')\n",
    "        plt.xticks(dates_rng, [dtz.strftime('%Y') for dtz in dates_rng], rotation=45, fontsize=38)\n",
    "        \n",
    "        ax.tick_params(axis='both', which='major', labelsize=48)\n",
    "        ax.legend(loc='upper left', fontsize=28, frameon=True).get_frame().set_edgecolor('blue')  \n",
    "\n",
    "\n",
    "    bbox_props = dict(boxstyle=\"round4, pad=0.6\", fc='ivory', ec=\"black\", lw=.5)\n",
    "    \n",
    "    for x in etf_names:\n",
    "        axes[etf_names.index(x)].annotate('Global Max = {:.2%}\\nDate = {}'\n",
    "                         .format(plot_labels[x][1], plot_labels[x][3].strftime('%a, %Y-%m-%d')),\n",
    "                    xy=(plot_labels[x][3], plot_labels[x][1]),  \n",
    "                    xycoords='data',\n",
    "                    xytext=(-150, -30),      \n",
    "                    textcoords='offset points',\n",
    "                    arrowprops=dict(arrowstyle=\"->\",ec='black'), size=32, bbox=bbox_props)    \n",
    "\n",
    "        axes[etf_names.index(x)].annotate('Global Min = {:.2%}\\nDate = {}'\n",
    "                         .format(plot_labels[x][0], plot_labels[x][2].strftime('%a, %Y-%m-%d')),\n",
    "                    xy=(plot_labels[x][2], plot_labels[x][0]),  \n",
    "                    xycoords='data',\n",
    "                    xytext=(-150, 30),      \n",
    "                    textcoords='offset points',\n",
    "                    arrowprops=dict(arrowstyle=\"->\",ec='black'),size=32,bbox=bbox_props) \n",
    "    # now to use tight layout\n",
    "    plt.tight_layout()\n"
   ]
  },
  {
   "cell_type": "code",
   "execution_count": null,
   "metadata": {
    "scrolled": true
   },
   "outputs": [],
   "source": [
    "US = [\"PFE\",\"MRK\", \"JNJ\"]\n",
    "EU = [\"NVS\", \"GSK\"]\n",
    "US_pharma_new_sym = [\"PFE\",\"MRK\",\"JNJ\", \"ABBV\"]\n",
    "EU_pharma_new_sym = [\"NVS\", \"GSK\", \"RHHBY\", \"SNY\"]\n",
    "\n",
    "US = etf_contstructor(US,max([data[x].first_valid_index() for x in US]))\n",
    "EU = etf_contstructor(EU,max([data[x].first_valid_index() for x in EU]))\n",
    "US_pharma_new = etf_contstructor(US_pharma_new_sym,max([data[x].first_valid_index() for x in US_pharma_new_sym]))\n",
    "EU_pharma_new = etf_contstructor(EU_pharma_new_sym,max([data[x].first_valid_index() for x in EU_pharma_new_sym]))\n",
    "\n",
    "etfs = [EU, US]#, US_pharma_new, EU_pharma_new]\n",
    "etf_names = ['EU','US']#, 'US_pharma_new', 'EU_pharma_new']\n",
    "for i in range(len(etfs)):\n",
    "    etfs[i].columns = [etf_names[i]]\n",
    "etfs_df = reduce(lambda  left,right: pd.merge(left,right,how = 'outer',left_index=True, right_index=True), etfs)\n",
    "etfs_df = etfs_df['1999':]"
   ]
  },
  {
   "cell_type": "code",
   "execution_count": null,
   "metadata": {},
   "outputs": [],
   "source": []
  },
  {
   "cell_type": "code",
   "execution_count": null,
   "metadata": {
    "scrolled": false
   },
   "outputs": [],
   "source": [
    "etf_graph(etf_names, etfs_df[:-4])"
   ]
  },
  {
   "cell_type": "code",
   "execution_count": null,
   "metadata": {},
   "outputs": [],
   "source": [
    "plt.style.use('seaborn')\n",
    "mpl.rcParams['font.family'] = 'serif'"
   ]
  },
  {
   "cell_type": "code",
   "execution_count": null,
   "metadata": {},
   "outputs": [],
   "source": [
    "#tmp = data.merge(ETF, how='outer', left_index=True, right_index=True)\n",
    "#tmp.to_excel('tmp.xlsx')\n",
    "#data.info()\n",
    "#data.plot(figsize=(25, 10))"
   ]
  },
  {
   "cell_type": "code",
   "execution_count": null,
   "metadata": {},
   "outputs": [],
   "source": [
    "def statsummary(sym, etf_ticks=sym,start=None, end = None):\n",
    "    etf= etf_contstructor(etf_ticks,start)\n",
    "    df_dict ={}\n",
    "    for x in sym:\n",
    "        df_dict[x] = web.get_data_yahoo(x,start=datetime(1970, 1, 1))[\"Adj Close\"]\n",
    "    data = pd.DataFrame(df_dict)\n",
    "    data = data.merge(etf, how='outer', left_index=True, right_index=True)\n",
    "    data = data[start:end]\n",
    "    data = np.log(data / data.shift(1))\n",
    "    mean = data.mean()\n",
    "    std =data.std()\n",
    "    skew = data.skew()\n",
    "    kurt = data.kurt()\n",
    "    stats = pd.concat([mean, std, skew, kurt], axis=1)\n",
    "    stats.columns = ['Mean',\"Standard Deviation\",\"Skew\",\"Kurtosis\"]\n",
    "    stats.plot(kind='bar',figsize=(20,6),subplots=True)\n",
    "    plt.show()\n",
    "    display(stats)"
   ]
  },
  {
   "cell_type": "code",
   "execution_count": null,
   "metadata": {},
   "outputs": [],
   "source": [
    "statsummary(sym2,sym,'2007','2009')"
   ]
  },
  {
   "cell_type": "code",
   "execution_count": null,
   "metadata": {
    "scrolled": true
   },
   "outputs": [],
   "source": [
    "statsummary(sym,sym,'2007','2009')"
   ]
  },
  {
   "cell_type": "code",
   "execution_count": null,
   "metadata": {
    "scrolled": false
   },
   "outputs": [],
   "source": [
    "rets = np.log(data / data.shift(1))\n",
    "rets.cumsum().apply(np.exp).plot(figsize=(10, 6))\n",
    "rets.cumsum().apply(np.exp). resample('1m', label='right').last().plot(figsize=(10, 6));"
   ]
  },
  {
   "cell_type": "code",
   "execution_count": null,
   "metadata": {},
   "outputs": [],
   "source": [
    "#data2 = data.dropna()\n",
    "#rollingstats = pd.DataFrame()\n",
    "#window = 20\n",
    "#for x in sym:\n",
    "#    rollingstats[x+' '+'min'] = data2[x].rolling(window=window).min()\n",
    "#    rollingstats[x+' '+'mean'] = data2[x].rolling(window=window).mean()\n",
    "#    rollingstats[x+' '+'std'] = data2[x].rolling(window=window).std()\n",
    "#    rollingstats[x+' '+'median'] = data2[x].rolling(window=window).median()\n",
    "#    rollingstats[x+' '+'max'] = data2[x].rolling(window=window).max()\n",
    "#    rollingstats[x+' '+'ewm'] = data2[x].ewm(halflife=0.5, min_periods=window).mean()\n"
   ]
  },
  {
   "cell_type": "code",
   "execution_count": null,
   "metadata": {},
   "outputs": [],
   "source": [
    "#def roller(tick):\n",
    "#    ax = rollingstats[[tick+' min', tick+' ewm', tick+' max']].iloc[-400:].plot(figsize=(10, 6), style=['g--', 'r--', 'g--'], lw=0.8)\n",
    "#    data[tick].iloc[-400:].plot(ax=ax, lw=2.0);\n",
    "#list(map(roller, sym))"
   ]
  },
  {
   "cell_type": "code",
   "execution_count": null,
   "metadata": {},
   "outputs": [],
   "source": [
    "#rets = np.log(data / data.shift(1))\n",
    "#rets.dropna(inplace=True)\n",
    "#rets.plot(subplots=True, figsize=(10, 6));"
   ]
  },
  {
   "cell_type": "code",
   "execution_count": null,
   "metadata": {},
   "outputs": [],
   "source": [
    "def corr(tick):\n",
    "    tmp= ['spy']\n",
    "    tmp.append(tick)\n",
    "    df_dict ={}\n",
    "    for x in tmp:\n",
    "        df_dict[x] = web.get_data_yahoo(x,start=datetime(1970, 1, 1))[\"Adj Close\"]\n",
    "    data = pd.DataFrame(df_dict)\n",
    "    rets = np.log(data / data.shift(1))\n",
    "    rets.dropna(inplace=True)\n",
    "    return rets\n",
    "\n",
    "def corrg(tick):\n",
    "    pd.plotting.scatter_matrix(corr(tick),alpha=0.2,diagonal='hist', figsize=(10, 6));\n",
    "\n",
    "def corrgraph(tick):\n",
    "    rets= corr(tick)\n",
    "    ax = rets['spy'].rolling(window=252).corr(rets[tick]).plot(figsize=(10, 6))\n",
    "    ax.axhline(rets.corr().iloc[0, 1], c='r')\n",
    "\n",
    "corr_all = list(map(corr,sym))"
   ]
  },
  {
   "cell_type": "code",
   "execution_count": null,
   "metadata": {},
   "outputs": [],
   "source": [
    "for i in range(len(sym)):\n",
    "    corr_all[i].plot(subplots=True, figsize=(15, 6));"
   ]
  },
  {
   "cell_type": "code",
   "execution_count": null,
   "metadata": {},
   "outputs": [],
   "source": [
    "#ols\n",
    "#reg = np.polyfit(rets['spy'], rets['pfe'], deg=1)\n",
    "#ax = rets.plot(kind='scatter', x='spy', y='pfe', figsize=(10, 6))\n",
    "#ax.plot(rets['spy'], np.polyval(reg, rets['spy']), 'r', lw=2);\n",
    "#time for statistics\n",
    "#data = data.dropna()\n",
    "#data.info()\n",
    "#(data / data.iloc[0] * 100).plot(figsize=(10, 6))\n",
    "#log_returns = np.log(data / data.shift(1))\n",
    "#log_returns.head()\n",
    "#log_returns.hist(bins=50, figsize=(10, 8));"
   ]
  },
  {
   "cell_type": "code",
   "execution_count": null,
   "metadata": {},
   "outputs": [],
   "source": [
    "def print_statistics(array):\n",
    "    sta = scs.describe(array)\n",
    "    print('%14s %15s' % ('statistic', 'value'))\n",
    "    print(30 * '-')\n",
    "    print('%14s %15.5f' % ('size', sta[0]))\n",
    "    print('%14s %15.5f' % ('min', sta[1][0]))\n",
    "    print('%14s %15.5f' % ('max', sta[1][1]))\n",
    "    print('%14s %15.5f' % ('mean', sta[2]))\n",
    "    print('%14s %15.5f' % ('std', np.sqrt(sta[3])))\n",
    "    print('%14s %15.5f' % ('skew', sta[4]))\n",
    "    print('%14s %15.5f' % ('kurtosis', sta[5]))\n",
    "\n",
    "    \n",
    "def normality_tests(arr):\n",
    "    print('Skew of data set  %14.3f' % scs.skew(arr))\n",
    "    print('Skew test p-value %14.3f' % scs.skewtest(arr)[1])\n",
    "    print('Kurt of data set  %14.3f' % scs.kurtosis(arr))\n",
    "    print('Kurt test p-value %14.3f' % scs.kurtosistest(arr)[1])\n",
    "    print('Norm test p-value %14.3f' % scs.normaltest(arr)[1])\n"
   ]
  },
  {
   "cell_type": "code",
   "execution_count": null,
   "metadata": {},
   "outputs": [],
   "source": [
    "def aggregatestats(sym):\n",
    "    for x in sym:\n",
    "        df_dict[x] = web.get_data_yahoo(x,start=datetime(1970, 1, 1))[\"Adj Close\"]\n",
    "        data = pd.DataFrame(df_dict)\n",
    "        data = np.log(data / data.shift(1))\n",
    "        data = data.dropna()\n",
    "        print('\\nResults for symbol {}'.format(x))\n",
    "        print(32 * '-')\n",
    "        normality_tests(data[x])"
   ]
  },
  {
   "cell_type": "code",
   "execution_count": null,
   "metadata": {},
   "outputs": [],
   "source": [
    "#aggregatestats(sym+sym2)"
   ]
  },
  {
   "cell_type": "code",
   "execution_count": null,
   "metadata": {},
   "outputs": [],
   "source": [
    "def stats(sym,start=None,end=None):\n",
    "    df_dict ={}\n",
    "    for x in sym:\n",
    "        df_dict[x] = web.get_data_yahoo(x,start=datetime(1970, 1, 1))[\"Adj Close\"]\n",
    "    data = pd.DataFrame(df_dict)\n",
    "    data = data[start:end]\n",
    "    data = data.dropna(how ='all')\n",
    "    rets = np.log(data / data.shift(1))\n",
    "    corr = rets.corr()\n",
    "    corr= corr\n",
    "    return corr"
   ]
  },
  {
   "cell_type": "code",
   "execution_count": null,
   "metadata": {},
   "outputs": [],
   "source": [
    "pd.set_option('display.max_columns', 999)\n",
    "stats([x for x in sym if x!='ABBV']+sym2,\"1-2007\",\"12-2009\")#,\"06-2009\")\n",
    "#stats(sym+sym2,\"12-1990\").to_excel(\"recession.xlsx\")"
   ]
  },
  {
   "cell_type": "code",
   "execution_count": null,
   "metadata": {
    "scrolled": false
   },
   "outputs": [],
   "source": [
    "def heatMap(sym,mirror,start=None,end=None):\n",
    "    df_dict ={}\n",
    "    for x in sym:\n",
    "        df_dict[x] = web.get_data_yahoo(x,start=datetime(1970, 1, 1))[\"Adj Close\"]\n",
    "    data = pd.DataFrame(df_dict)\n",
    "    data = data[start:end]\n",
    "    rets = np.log(data / data.shift(1))\n",
    "    corr = rets.corr()\n",
    "    fig, ax = plt.subplots(figsize=(12, 12))\n",
    "    #plt.title(\"Heat Map|\" + \"  Start: {}  End: {}\".format(start,end))\n",
    "    if mirror == True:\n",
    "        #Generate Heat Map, allow annotations and place floats in map\n",
    "        sns.heatmap(corr, cmap='coolwarm', annot=True, fmt=\".2f\")\n",
    "        #Apply xticks\n",
    "        plt.xticks(range(len(corr.columns)), corr.columns);\n",
    "        #Apply yticks\n",
    "        plt.yticks(range(len(corr.columns)), corr.columns)\n",
    "        #show plot\n",
    "    else:\n",
    "        # Drop self-correlations\n",
    "        dropSelf = np.zeros_like(corr)\n",
    "        dropSelf[np.triu_indices_from(dropSelf)] = True\n",
    "        # Generate Color Map\n",
    "        colormap = sns.diverging_palette(420, 10, as_cmap=True)\n",
    "        # Generate Heat Map, allow annotations and place floats in map\n",
    "        sns.heatmap(corr, cmap='coolwarm', annot=True, fmt=\".2f\", mask=dropSelf)\n",
    "        # Apply xticks\n",
    "        plt.xticks(range(len(corr.columns)), corr.columns);\n",
    "        # Apply yticks\n",
    "        plt.yticks(range(len(corr.columns)), corr.columns)\n",
    "        # show plot\n",
    "    plt.show()    \n",
    "\n",
    "heatMap([x for x in sym if x!='ABBV']+sym2,False,\"1-1990\")"
   ]
  },
  {
   "cell_type": "code",
   "execution_count": null,
   "metadata": {},
   "outputs": [],
   "source": [
    "def etfheatMap(sym,mirror,start=None,end=None):\n",
    "    df_dict ={}\n",
    "    for x in sym:\n",
    "        df_dict[x] = web.get_data_yahoo(x,start=datetime(1970, 1, 1))[\"Adj Close\"]\n",
    "    data = pd.DataFrame(df_dict)\n",
    "    data = data[start:end]\n",
    "    US_pharma_sym = [\"PFE\",\"MRK\", \"JNJ\"]\n",
    "    EU_pharma_sym = [\"RHHBY\",\"NVS\", \"GSK\"]\n",
    "    US = etf_contstructor(US_pharma_sym,max([data[x].first_valid_index() for x in US_pharma_sym]))\n",
    "    EU= etf_contstructor(EU_pharma_sym,max([data[x].first_valid_index() for x in EU_pharma_sym]))\n",
    "    etfs = [US,EU]\n",
    "    etf_names = ['US', 'EU']\n",
    "    for i in range(len(etfs)):\n",
    "        etfs[i].columns = [etf_names[i]]\n",
    "    etfs_df = reduce(lambda  left,right: pd.merge(left,right,how = 'outer',left_index=True, right_index=True), etfs)\n",
    "    etfs_df = etfs_df['1990':]\n",
    "    data = data.join(etfs_df, how='outer')\n",
    "    rets = np.log(data / data.shift(1))\n",
    "    corr = rets.corr()\n",
    "    fig, ax = plt.subplots(figsize=(12, 12))\n",
    "    #plt.title(\"Heat Map|\" + \"  Start: {}  End: {}\".format(start,end))\n",
    "    if mirror == True:\n",
    "        #Generate Heat Map, allow annotations and place floats in map\n",
    "        sns.heatmap(corr, cmap='coolwarm', annot=True, fmt=\".2f\")\n",
    "        #Apply xticks\n",
    "        plt.xticks(range(len(corr.columns)), corr.columns);\n",
    "        #Apply yticks\n",
    "        plt.yticks(range(len(corr.columns)), corr.columns)\n",
    "        #show plot\n",
    "    else:\n",
    "        # Drop self-correlations\n",
    "        dropSelf = np.zeros_like(corr)\n",
    "        dropSelf[np.triu_indices_from(dropSelf)] = True\n",
    "        # Generate Color Map\n",
    "        colormap = sns.diverging_palette(420, 10, as_cmap=True)\n",
    "        # Generate Heat Map, allow annotations and place floats in map\n",
    "        sns.heatmap(corr, cmap='coolwarm', annot=True, fmt=\".2f\", mask=dropSelf, annot_kws={\"size\": 16})\n",
    "        # Apply xticks\n",
    "        plt.xticks(range(len(corr.columns)), corr.columns, fontsize=14);\n",
    "        # Apply yticks\n",
    "        plt.yticks(range(len(corr.columns)), corr.columns, fontsize=14)\n",
    "        # show plot\n",
    "    plt.show()    \n",
    "\n",
    "etfheatMap(['PFE','MRK','JNJ',\"RHHBY\",\"NVS\", \"GSK\"]+['SPY','^VIX','QQQ', 'XLP', 'XLU'],False,\"12-2007\", \"6-2009\")"
   ]
  },
  {
   "cell_type": "code",
   "execution_count": null,
   "metadata": {},
   "outputs": [],
   "source": []
  },
  {
   "cell_type": "code",
   "execution_count": null,
   "metadata": {},
   "outputs": [],
   "source": [
    "from math import sqrt\n",
    "weights = np.random.random(noa)  \n",
    "weights /= np.sum(weights)\n",
    "weights = np.random.random(noa)  \n",
    "\n",
    "#E[X]--np.sum(rets.mean() * weights) * 252\n",
    "#var--np.dot(weights.T, np.dot(rets.cov() * 252, weights))\n",
    "#vol--sqrt(np.dot(weights.T, np.dot(rets.cov() * 252, weights)))\n",
    "def port_ret(weights):\n",
    "             return np.sum(rets.mean() * weights) * 252\n",
    "def port_vol(weights):\n",
    "             return np.sqrt(np.dot(weights.T, np.dot(rets.cov() * 252, weights)))"
   ]
  },
  {
   "cell_type": "code",
   "execution_count": null,
   "metadata": {},
   "outputs": [],
   "source": [
    "prets = []\n",
    "pvols = []\n",
    "for p in range (5000):  \n",
    "    weights = np.random.random(noa)  \n",
    "    weights /= np.sum(weights)  \n",
    "    prets.append(port_ret(weights))  \n",
    "    pvols.append(port_vol(weights))  \n",
    "prets = np.array(prets)\n",
    "pvols = np.array(pvols)"
   ]
  },
  {
   "cell_type": "code",
   "execution_count": null,
   "metadata": {
    "scrolled": true
   },
   "outputs": [],
   "source": [
    "plt.figure(figsize=(10, 6))\n",
    "plt.scatter(pvols, prets, c=prets / pvols, marker='o', cmap='coolwarm')\n",
    "plt.xlabel('expected volatility')\n",
    "plt.ylabel('expected return')\n",
    "plt.colorbar(label='Sharpe ratio');"
   ]
  },
  {
   "cell_type": "code",
   "execution_count": null,
   "metadata": {},
   "outputs": [],
   "source": [
    "def min_func_sharpe(weights):\n",
    "    return -port_ret(weights) / port_vol(weights)\n",
    "\n",
    "cons = ({'type': 'eq', 'fun': lambda x:  np.sum(x) - 1})\n",
    "bnds = tuple((0, 1) for x in range(noa))\n",
    "eweights = np.array(noa * [1. / noa,])\n",
    "min_func_sharpe(eweights)\n",
    "opts = sco.minimize(min_func_sharpe, eweights, method='SLSQP', bounds=bnds, constraints=cons)\n",
    "optv = sco.minimize(port_vol, eweights,method='SLSQP', bounds=bnds,constraints=cons)"
   ]
  },
  {
   "cell_type": "code",
   "execution_count": null,
   "metadata": {},
   "outputs": [],
   "source": [
    "cons = ({'type': 'eq', 'fun': lambda x:  port_ret(x) - tret}, {'type': 'eq', 'fun': lambda x:  np.sum(x) - 1})\n",
    "bnds = tuple((0, 1) for x in weights)\n",
    "trets = np.linspace(0.05, 0.2, 50)\n",
    "tvols = []\n",
    "\n",
    "for tret in trets:\n",
    "    res = sco.minimize(port_vol, eweights, method='SLSQP', bounds=bnds, constraints=cons)\n",
    "    tvols.append(res['fun'])\n",
    "tvols = np.array(tvols)"
   ]
  },
  {
   "cell_type": "code",
   "execution_count": null,
   "metadata": {},
   "outputs": [],
   "source": [
    "plt.figure(figsize=(10, 6))\n",
    "plt.scatter(pvols, prets, c=prets / pvols, marker='.', alpha=0.8, cmap='coolwarm')\n",
    "plt.plot(tvols, trets, 'b', lw=4.0)\n",
    "plt.plot(port_vol(opts['x']), port_ret(opts['x']), 'y*', markersize=15.0)\n",
    "plt.plot(port_vol(optv['x']), port_ret(optv['x']), 'r*', markersize=15.0)\n",
    "plt.xlabel('expected volatility')\n",
    "plt.ylabel('expected return')\n",
    "plt.colorbar(label='Sharpe ratio')\n"
   ]
  },
  {
   "cell_type": "code",
   "execution_count": null,
   "metadata": {},
   "outputs": [],
   "source": [
    "def bayes(tick):\n",
    "    tmp= ['spy']\n",
    "    tmp.append(tick)\n",
    "    df_dict ={}\n",
    "    for x in tmp:\n",
    "        df_dict[x] = web.get_data_yahoo(x,start=datetime(1970, 1, 1))[\"Adj Close\"]\n",
    "    data = pd.DataFrame(df_dict)\n",
    "    data=data.dropna()\n",
    "    data = data / data.iloc[0] #normalize to 1\n",
    "    return data\n",
    "data = bayes('pfe')\n",
    "data.iloc[-1] / data.iloc[0] - 1\n",
    "data.corr()"
   ]
  },
  {
   "cell_type": "code",
   "execution_count": null,
   "metadata": {},
   "outputs": [],
   "source": [
    "data.plot(figsize=(10,6))"
   ]
  },
  {
   "cell_type": "code",
   "execution_count": null,
   "metadata": {},
   "outputs": [],
   "source": [
    "mpl_dates = mpl.dates.date2num(data.index.to_pydatetime())\n",
    "plt.figure(figsize=(10, 6))\n",
    "plt.scatter(data['spy'], data['pfe'], c=mpl_dates, marker='o', cmap='coolwarm')\n",
    "plt.xlabel('spy')\n",
    "plt.ylabel('pfe')\n",
    "plt.colorbar(ticks=mpl.dates.DayLocator(interval=250),format=mpl.dates.DateFormatter('%d %b %y'));"
   ]
  },
  {
   "cell_type": "code",
   "execution_count": null,
   "metadata": {
    "scrolled": true
   },
   "outputs": [],
   "source": [
    "import pymc3 as pm\n",
    "with pm.Model() as model:\n",
    "    alpha = pm.Normal('alpha', mu=0, sd=20)\n",
    "    beta = pm.Normal('beta', mu=0, sd=20)\n",
    "    sigma = pm.Uniform('sigma', lower=0, upper=50)\n",
    "    y_est = alpha + beta * data['spy'].values\n",
    "    likelihood = pm.Normal('pfe', mu=y_est, sd=sigma, observed=data['pfe'].values)\n",
    "    start = pm.find_MAP()\n",
    "    step = pm.NUTS()\n",
    "    trace = pm.sample(500, tune=1000, start=start,progressbar=True)\n"
   ]
  },
  {
   "cell_type": "code",
   "execution_count": null,
   "metadata": {},
   "outputs": [],
   "source": [
    "pm.summary(trace)"
   ]
  },
  {
   "cell_type": "code",
   "execution_count": null,
   "metadata": {
    "scrolled": true
   },
   "outputs": [],
   "source": [
    "fig = pm.traceplot(trace)"
   ]
  },
  {
   "cell_type": "code",
   "execution_count": null,
   "metadata": {
    "scrolled": true
   },
   "outputs": [],
   "source": [
    "plt.figure(figsize=(10, 6))\n",
    "plt.scatter(data['spy'], data['pfe'], c=mpl_dates,\n",
    "         marker='o', cmap='coolwarm')\n",
    "plt.xlabel('spy')\n",
    "plt.ylabel('pfe')\n",
    "for i in range(len(trace)):\n",
    "    plt.plot(data['spy'],\n",
    "          trace['alpha'][i] + trace['beta'][i] * data['spy'])"
   ]
  },
  {
   "cell_type": "markdown",
   "metadata": {},
   "source": [
    "# Add Macroeconomic Information"
   ]
  },
  {
   "cell_type": "code",
   "execution_count": null,
   "metadata": {},
   "outputs": [],
   "source": [
    "\n"
   ]
  },
  {
   "cell_type": "code",
   "execution_count": null,
   "metadata": {},
   "outputs": [],
   "source": []
  },
  {
   "cell_type": "code",
   "execution_count": null,
   "metadata": {},
   "outputs": [],
   "source": []
  },
  {
   "cell_type": "code",
   "execution_count": null,
   "metadata": {},
   "outputs": [],
   "source": []
  }
 ],
 "metadata": {
  "kernelspec": {
   "display_name": "Python 3",
   "language": "python",
   "name": "python3"
  },
  "language_info": {
   "codemirror_mode": {
    "name": "ipython",
    "version": 3
   },
   "file_extension": ".py",
   "mimetype": "text/x-python",
   "name": "python",
   "nbconvert_exporter": "python",
   "pygments_lexer": "ipython3",
   "version": "3.7.1"
  }
 },
 "nbformat": 4,
 "nbformat_minor": 2
}
